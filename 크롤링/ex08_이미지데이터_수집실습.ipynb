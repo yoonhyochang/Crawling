{
 "cells": [
  {
   "cell_type": "markdown",
   "id": "94fd2924",
   "metadata": {},
   "source": [
    "### 네이버 이미지 검색을 통한 이미지 수집\n",
    "1. 이미지 저장할 폴더 정리(os 라이브러리)\n",
    "2. 이미지 url활용 수집후 이미지 파일로 저장해보기(urllib 라이브러리 urlretrieve)\n",
    "3. 한 페이지 내의 고양이(동물) 이미지 수집하기\n",
    "4. 스크롤 다운하여 더 많은 이미지 파일 출력해서 저장하기"
   ]
  },
  {
   "cell_type": "code",
   "execution_count": 4,
   "id": "be132d7c",
   "metadata": {
    "ExecuteTime": {
     "end_time": "2022-12-20T02:49:43.667827Z",
     "start_time": "2022-12-20T02:49:43.594201Z"
    }
   },
   "outputs": [],
   "source": [
    "import time # 실행에 대한 딜레이를 주기 위한 라이브럴리\n",
    "from selenium import webdriver as wb\n",
    "from selenium.webdriver.common.by import By\n",
    "from selenium.webdriver.common.keys import Keys\n",
    "\n",
    "# 파일 시스템을 다룰 때 사용하는 라이브러리\n",
    "# 파일or  폴더 생성, 삭제, 이동, 파일이나 폴더의 존재 여부 판단 등등..\n",
    "import os\n",
    "# 이미지경로를 기반으로 서버에 요청해서 이미지파일을 저장할 수 있게 하는 라이브러리\n",
    "\n",
    "from urllib.request import urlretrieve"
   ]
  },
  {
   "cell_type": "code",
   "execution_count": 5,
   "id": "a8d0ee5e",
   "metadata": {
    "ExecuteTime": {
     "end_time": "2022-12-20T02:49:44.276077Z",
     "start_time": "2022-12-20T02:49:44.266134Z"
    }
   },
   "outputs": [],
   "source": [
    "url= 'https://search.pstatic.net/common/?src=http%3A%2F%2Fcafefiles.naver.net%2FMjAxOTA2MjRfMTMz%2FMDAxNTYxMzgzNjU5MDgw.IzhuJMuYrytEV6rkLxgXVKqsHfR_HDcf_8wKpXZux8Mg.yp9noB1DSd6eKLDim1qeAH-LSReC1Md1xSer-T8lfzsg.JPEG%2FexternalFile.jpg&type=a340'\n",
    "# urlretrieve(요청할 이미지 경로, 이미지 파일을 저장할 경로)"
   ]
  },
  {
   "cell_type": "code",
   "execution_count": 6,
   "id": "42dc67dc",
   "metadata": {
    "ExecuteTime": {
     "end_time": "2022-12-20T02:49:44.878356Z",
     "start_time": "2022-12-20T02:49:44.817469Z"
    }
   },
   "outputs": [
    {
     "data": {
      "text/plain": [
       "('./서연이.jpg', <http.client.HTTPMessage at 0x2285eb96610>)"
      ]
     },
     "execution_count": 6,
     "metadata": {},
     "output_type": "execute_result"
    }
   ],
   "source": [
    "urlretrieve(url,'./서연이.jpg')"
   ]
  },
  {
   "cell_type": "code",
   "execution_count": 8,
   "id": "757ab4b6",
   "metadata": {
    "ExecuteTime": {
     "end_time": "2022-12-20T02:51:30.518076Z",
     "start_time": "2022-12-20T02:51:30.508099Z"
    }
   },
   "outputs": [
    {
     "data": {
      "text/plain": [
       "False"
      ]
     },
     "execution_count": 8,
     "metadata": {},
     "output_type": "execute_result"
    }
   ],
   "source": [
    "# 폴더 존재여부 판단하기\n",
    "# 폴더가 있다면 :True\n",
    "# 없다면 : False\n",
    "os.path.isdir('./서연이')"
   ]
  },
  {
   "cell_type": "code",
   "execution_count": 10,
   "id": "34d5893f",
   "metadata": {
    "ExecuteTime": {
     "end_time": "2022-12-20T02:53:03.411852Z",
     "start_time": "2022-12-20T02:53:03.393851Z"
    }
   },
   "outputs": [],
   "source": [
    "#폴더 생성하기\n",
    "os.mkdir(\"./서연이\")"
   ]
  },
  {
   "cell_type": "code",
   "execution_count": 11,
   "id": "ad521827",
   "metadata": {
    "ExecuteTime": {
     "end_time": "2022-12-20T02:53:04.268364Z",
     "start_time": "2022-12-20T02:53:04.249446Z"
    }
   },
   "outputs": [
    {
     "data": {
      "text/plain": [
       "True"
      ]
     },
     "execution_count": 11,
     "metadata": {},
     "output_type": "execute_result"
    }
   ],
   "source": [
    "os.path.isdir('./서연이')"
   ]
  },
  {
   "cell_type": "code",
   "execution_count": 13,
   "id": "bdd7df03",
   "metadata": {
    "ExecuteTime": {
     "end_time": "2022-12-20T02:55:30.120599Z",
     "start_time": "2022-12-20T02:55:30.106610Z"
    }
   },
   "outputs": [
    {
     "name": "stdout",
     "output_type": "stream",
     "text": [
      "현재 폴더는 있습니다.\n"
     ]
    }
   ],
   "source": [
    "# 조건\n",
    "# 해당 폴더가 있으면 폴더 생성X\n",
    "# 해당 폴더가 없으면 폴더 생성\n",
    "if os.path.isdir('./효창') == True:\n",
    "    print('현재 폴더는 있습니다.')\n",
    "else:\n",
    "    os.mkdir(\"./효창\")"
   ]
  },
  {
   "cell_type": "code",
   "execution_count": 14,
   "id": "753eba30",
   "metadata": {
    "ExecuteTime": {
     "end_time": "2022-12-20T03:10:11.311313Z",
     "start_time": "2022-12-20T03:10:11.297377Z"
    }
   },
   "outputs": [],
   "source": [
    "# 폴더 생성하는 함수 만들기\n",
    "def create_folder(name): # name 폴더명\n",
    "    if os.path.isdir(f'./{name}') == True:\n",
    "        print('현재 폴더는 있습니다.')\n",
    "    else:\n",
    "        os.mkdir(f\"./{name}\")\n",
    "        print(f'{name}폴더가 생성되었습니다.')\n",
    "    "
   ]
  },
  {
   "cell_type": "code",
   "execution_count": 15,
   "id": "589b6227",
   "metadata": {
    "ExecuteTime": {
     "end_time": "2022-12-20T03:10:21.865220Z",
     "start_time": "2022-12-20T03:10:21.858245Z"
    }
   },
   "outputs": [
    {
     "name": "stdout",
     "output_type": "stream",
     "text": [
      "강아지폴더가 생성되었습니다.\n"
     ]
    }
   ],
   "source": [
    "create_folder('강아지')"
   ]
  },
  {
   "cell_type": "markdown",
   "id": "59f197f5",
   "metadata": {},
   "source": [
    "### 이미지 url활용 수집 후 이미지 파일로 저장하기"
   ]
  },
  {
   "cell_type": "code",
   "execution_count": 17,
   "id": "036eae80",
   "metadata": {
    "ExecuteTime": {
     "end_time": "2022-12-20T03:17:23.885561Z",
     "start_time": "2022-12-20T03:17:22.193034Z"
    }
   },
   "outputs": [],
   "source": [
    "url = 'https://search.naver.com/search.naver?sm=tab_hty.top&where=image&query=%EB%88%88%ED%81%B0%EB%8F%99%EB%AC%BC&oquery=%EC%95%88%EA%B2%BD%EC%9B%90%EC%88%AD%EC%9D%B4&tqi=hIZlNdp0J1sssRStTmossssstsd-254216&nso=so%3Ar%2Ca%3Aall%2Cp%3Aall#imgId=image_sas%3Acafe10625072%7C221%7C3768518_577933677'\n",
    "#드라이버 html 요청\n",
    "driver = wb.Chrome()\n",
    "driver.get(url)\n",
    "\n",
    "\n",
    "\n"
   ]
  },
  {
   "cell_type": "code",
   "execution_count": 23,
   "id": "43893cf7",
   "metadata": {
    "ExecuteTime": {
     "end_time": "2022-12-20T03:21:09.562995Z",
     "start_time": "2022-12-20T03:21:09.527874Z"
    }
   },
   "outputs": [],
   "source": [
    "#첫 번째 이미지 태그 접근하기\n",
    "first_img = driver.find_element(By.CSS_SELECTOR, value= \"._image._listImage\")\n",
    "first_img\n",
    "first_url = first_img.get_attribute('src')# src 속성 접근함"
   ]
  },
  {
   "cell_type": "code",
   "execution_count": 24,
   "id": "664c8025",
   "metadata": {
    "ExecuteTime": {
     "end_time": "2022-12-20T03:21:12.009483Z",
     "start_time": "2022-12-20T03:21:11.959532Z"
    }
   },
   "outputs": [
    {
     "data": {
      "text/plain": [
       "('./물개/물개1.jpg', <http.client.HTTPMessage at 0x2285ebcd6a0>)"
      ]
     },
     "execution_count": 24,
     "metadata": {},
     "output_type": "execute_result"
    }
   ],
   "source": [
    "#저장하기\n",
    "urlretrieve(first_url,'./물개/물개1.jpg')"
   ]
  },
  {
   "cell_type": "markdown",
   "id": "f3654735",
   "metadata": {},
   "source": [
    "### 스크롤 다운하여 더 많은 이미지 파일 저장하기"
   ]
  },
  {
   "cell_type": "code",
   "execution_count": 39,
   "id": "89c3afaa",
   "metadata": {
    "ExecuteTime": {
     "end_time": "2022-12-20T03:51:36.829674Z",
     "start_time": "2022-12-20T03:51:21.231626Z"
    }
   },
   "outputs": [
    {
     "data": {
      "text/plain": [
       "[<selenium.webdriver.remote.webelement.WebElement (session=\"ea41107b2bd1683c4039a1a8cf45aee6\", element=\"b86c0741-4ba4-44a1-afcf-ad7d6ca18303\")>,\n",
       " <selenium.webdriver.remote.webelement.WebElement (session=\"ea41107b2bd1683c4039a1a8cf45aee6\", element=\"d61f2929-79b5-427c-89be-71425d3cdaf8\")>,\n",
       " <selenium.webdriver.remote.webelement.WebElement (session=\"ea41107b2bd1683c4039a1a8cf45aee6\", element=\"5e1fd8be-e7d3-49e0-82a5-516623a8adbd\")>,\n",
       " <selenium.webdriver.remote.webelement.WebElement (session=\"ea41107b2bd1683c4039a1a8cf45aee6\", element=\"dd38447d-2fa7-40a2-aee0-2513787ece8e\")>,\n",
       " <selenium.webdriver.remote.webelement.WebElement (session=\"ea41107b2bd1683c4039a1a8cf45aee6\", element=\"46f4911f-f8c5-4013-baa4-dd1398d8205c\")>,\n",
       " <selenium.webdriver.remote.webelement.WebElement (session=\"ea41107b2bd1683c4039a1a8cf45aee6\", element=\"a1ad52e6-0b49-4036-8083-3eedf7c576b7\")>,\n",
       " <selenium.webdriver.remote.webelement.WebElement (session=\"ea41107b2bd1683c4039a1a8cf45aee6\", element=\"942d1990-61ca-4417-b449-be996239caac\")>,\n",
       " <selenium.webdriver.remote.webelement.WebElement (session=\"ea41107b2bd1683c4039a1a8cf45aee6\", element=\"6234b1f5-74af-47cf-a5a3-d07017f44d8f\")>,\n",
       " <selenium.webdriver.remote.webelement.WebElement (session=\"ea41107b2bd1683c4039a1a8cf45aee6\", element=\"db5dff11-67ba-4060-b5a0-fb0ee0e9bbec\")>,\n",
       " <selenium.webdriver.remote.webelement.WebElement (session=\"ea41107b2bd1683c4039a1a8cf45aee6\", element=\"abe5ef2c-6ebf-4321-9b91-b4454b5d648a\")>,\n",
       " <selenium.webdriver.remote.webelement.WebElement (session=\"ea41107b2bd1683c4039a1a8cf45aee6\", element=\"4ebd3dd9-c27d-4f84-9d4e-ae497c55b515\")>,\n",
       " <selenium.webdriver.remote.webelement.WebElement (session=\"ea41107b2bd1683c4039a1a8cf45aee6\", element=\"d975a32d-b1f7-478d-a09d-d397a04235ae\")>,\n",
       " <selenium.webdriver.remote.webelement.WebElement (session=\"ea41107b2bd1683c4039a1a8cf45aee6\", element=\"77d02ea6-7391-4efd-bd96-5549a081ab30\")>,\n",
       " <selenium.webdriver.remote.webelement.WebElement (session=\"ea41107b2bd1683c4039a1a8cf45aee6\", element=\"338a0ca4-4af1-484c-83b7-0aceb0045277\")>,\n",
       " <selenium.webdriver.remote.webelement.WebElement (session=\"ea41107b2bd1683c4039a1a8cf45aee6\", element=\"0b296dce-161d-43ef-a502-19d4b1f24881\")>,\n",
       " <selenium.webdriver.remote.webelement.WebElement (session=\"ea41107b2bd1683c4039a1a8cf45aee6\", element=\"eb3cde63-23f6-4ba3-bd62-d8a302eb4947\")>,\n",
       " <selenium.webdriver.remote.webelement.WebElement (session=\"ea41107b2bd1683c4039a1a8cf45aee6\", element=\"1f0ec92f-c38b-430d-a2f9-5bdd8889e8ff\")>,\n",
       " <selenium.webdriver.remote.webelement.WebElement (session=\"ea41107b2bd1683c4039a1a8cf45aee6\", element=\"3b39ef88-d718-4035-a9e8-5f18f4f021ed\")>,\n",
       " <selenium.webdriver.remote.webelement.WebElement (session=\"ea41107b2bd1683c4039a1a8cf45aee6\", element=\"74157513-d188-4d52-a35e-9db0f9e148a4\")>,\n",
       " <selenium.webdriver.remote.webelement.WebElement (session=\"ea41107b2bd1683c4039a1a8cf45aee6\", element=\"4f724604-441a-4338-bce6-76f28effe8c1\")>,\n",
       " <selenium.webdriver.remote.webelement.WebElement (session=\"ea41107b2bd1683c4039a1a8cf45aee6\", element=\"1fc17fb1-f1a4-47a4-9aa5-9b0ca168f0e7\")>,\n",
       " <selenium.webdriver.remote.webelement.WebElement (session=\"ea41107b2bd1683c4039a1a8cf45aee6\", element=\"24599f89-a763-431a-9c4c-27317d433118\")>,\n",
       " <selenium.webdriver.remote.webelement.WebElement (session=\"ea41107b2bd1683c4039a1a8cf45aee6\", element=\"c990e0da-7975-45a3-8030-86eba152b46b\")>,\n",
       " <selenium.webdriver.remote.webelement.WebElement (session=\"ea41107b2bd1683c4039a1a8cf45aee6\", element=\"6a3131fd-df0e-4138-bc35-4609c604bf91\")>,\n",
       " <selenium.webdriver.remote.webelement.WebElement (session=\"ea41107b2bd1683c4039a1a8cf45aee6\", element=\"f9bc6948-dd11-405b-a2d4-75313d31809c\")>,\n",
       " <selenium.webdriver.remote.webelement.WebElement (session=\"ea41107b2bd1683c4039a1a8cf45aee6\", element=\"c4940ccd-0c72-4bfb-9de2-493833fd7622\")>,\n",
       " <selenium.webdriver.remote.webelement.WebElement (session=\"ea41107b2bd1683c4039a1a8cf45aee6\", element=\"93309ef3-f5ee-41a3-9ba4-f059e2d5b2ef\")>,\n",
       " <selenium.webdriver.remote.webelement.WebElement (session=\"ea41107b2bd1683c4039a1a8cf45aee6\", element=\"6edcfac4-6113-45ba-927b-5c6d843a5e62\")>,\n",
       " <selenium.webdriver.remote.webelement.WebElement (session=\"ea41107b2bd1683c4039a1a8cf45aee6\", element=\"3889f8a7-cf19-41ed-8d99-2b5ca9c24e75\")>,\n",
       " <selenium.webdriver.remote.webelement.WebElement (session=\"ea41107b2bd1683c4039a1a8cf45aee6\", element=\"d250870d-66b8-438c-9701-b513f5ef362b\")>,\n",
       " <selenium.webdriver.remote.webelement.WebElement (session=\"ea41107b2bd1683c4039a1a8cf45aee6\", element=\"9b476d52-d58b-4912-8082-731dfc9b22b5\")>,\n",
       " <selenium.webdriver.remote.webelement.WebElement (session=\"ea41107b2bd1683c4039a1a8cf45aee6\", element=\"f71502d6-680a-43dd-b628-b26d8c1f22dd\")>,\n",
       " <selenium.webdriver.remote.webelement.WebElement (session=\"ea41107b2bd1683c4039a1a8cf45aee6\", element=\"c586d440-e2d9-4817-af3e-40db37a2e536\")>,\n",
       " <selenium.webdriver.remote.webelement.WebElement (session=\"ea41107b2bd1683c4039a1a8cf45aee6\", element=\"2f0bf773-e78a-4a1f-855d-d1730d3e393e\")>,\n",
       " <selenium.webdriver.remote.webelement.WebElement (session=\"ea41107b2bd1683c4039a1a8cf45aee6\", element=\"c14d58e4-02dc-463c-b976-ddf775bad22b\")>,\n",
       " <selenium.webdriver.remote.webelement.WebElement (session=\"ea41107b2bd1683c4039a1a8cf45aee6\", element=\"4e25fed2-1280-4a3a-838c-6a17c8fd6da7\")>,\n",
       " <selenium.webdriver.remote.webelement.WebElement (session=\"ea41107b2bd1683c4039a1a8cf45aee6\", element=\"c54d128d-543c-4ef8-8cc6-a26de43620b9\")>,\n",
       " <selenium.webdriver.remote.webelement.WebElement (session=\"ea41107b2bd1683c4039a1a8cf45aee6\", element=\"4f0d1b8b-780e-461a-904b-05c3ddd98536\")>,\n",
       " <selenium.webdriver.remote.webelement.WebElement (session=\"ea41107b2bd1683c4039a1a8cf45aee6\", element=\"b2f1cb42-444d-4183-8e49-3f84ecc0c02d\")>,\n",
       " <selenium.webdriver.remote.webelement.WebElement (session=\"ea41107b2bd1683c4039a1a8cf45aee6\", element=\"95818c15-cb62-44a6-8e3f-09ae36478217\")>,\n",
       " <selenium.webdriver.remote.webelement.WebElement (session=\"ea41107b2bd1683c4039a1a8cf45aee6\", element=\"334306a1-847b-4037-9c6a-146b7687d076\")>,\n",
       " <selenium.webdriver.remote.webelement.WebElement (session=\"ea41107b2bd1683c4039a1a8cf45aee6\", element=\"db56671e-ada7-4610-93c3-1e9ac25d94d1\")>,\n",
       " <selenium.webdriver.remote.webelement.WebElement (session=\"ea41107b2bd1683c4039a1a8cf45aee6\", element=\"b4eb7b74-9a80-4e69-afa3-4691fcee7d76\")>,\n",
       " <selenium.webdriver.remote.webelement.WebElement (session=\"ea41107b2bd1683c4039a1a8cf45aee6\", element=\"361c7036-a9e4-49d1-8db9-38ebf917961c\")>,\n",
       " <selenium.webdriver.remote.webelement.WebElement (session=\"ea41107b2bd1683c4039a1a8cf45aee6\", element=\"3f8dab3b-909a-41dc-a224-b28097f70708\")>,\n",
       " <selenium.webdriver.remote.webelement.WebElement (session=\"ea41107b2bd1683c4039a1a8cf45aee6\", element=\"97a0871b-285e-4782-90e6-ac014dea9bc0\")>,\n",
       " <selenium.webdriver.remote.webelement.WebElement (session=\"ea41107b2bd1683c4039a1a8cf45aee6\", element=\"90ea19b7-7aa8-401e-a07f-c05ab1d698e6\")>,\n",
       " <selenium.webdriver.remote.webelement.WebElement (session=\"ea41107b2bd1683c4039a1a8cf45aee6\", element=\"3ec1e265-4f4e-4531-9897-f3a27dc7f664\")>,\n",
       " <selenium.webdriver.remote.webelement.WebElement (session=\"ea41107b2bd1683c4039a1a8cf45aee6\", element=\"4358817b-59aa-4eec-b014-e63f30668d72\")>,\n",
       " <selenium.webdriver.remote.webelement.WebElement (session=\"ea41107b2bd1683c4039a1a8cf45aee6\", element=\"cff42c12-e687-40c8-b9ca-e34a80483167\")>,\n",
       " <selenium.webdriver.remote.webelement.WebElement (session=\"ea41107b2bd1683c4039a1a8cf45aee6\", element=\"89933992-b8bc-4a53-9bf3-b181ba707468\")>,\n",
       " <selenium.webdriver.remote.webelement.WebElement (session=\"ea41107b2bd1683c4039a1a8cf45aee6\", element=\"3d624ab5-f09f-4cd1-a251-305feb8af427\")>,\n",
       " <selenium.webdriver.remote.webelement.WebElement (session=\"ea41107b2bd1683c4039a1a8cf45aee6\", element=\"896c0ff7-14db-4935-ac06-9958a8499efa\")>,\n",
       " <selenium.webdriver.remote.webelement.WebElement (session=\"ea41107b2bd1683c4039a1a8cf45aee6\", element=\"ba5d1709-87c6-4e7a-ad72-e002d175bd54\")>,\n",
       " <selenium.webdriver.remote.webelement.WebElement (session=\"ea41107b2bd1683c4039a1a8cf45aee6\", element=\"d616eead-7e7a-429c-a067-c9c887577394\")>,\n",
       " <selenium.webdriver.remote.webelement.WebElement (session=\"ea41107b2bd1683c4039a1a8cf45aee6\", element=\"250ac997-07cc-4b40-8aa9-b2a7e26b72e1\")>,\n",
       " <selenium.webdriver.remote.webelement.WebElement (session=\"ea41107b2bd1683c4039a1a8cf45aee6\", element=\"271a4350-0631-4ed6-9aa3-36ebaed63ea6\")>,\n",
       " <selenium.webdriver.remote.webelement.WebElement (session=\"ea41107b2bd1683c4039a1a8cf45aee6\", element=\"6174a012-9675-42b7-9f28-d763fd999ce5\")>,\n",
       " <selenium.webdriver.remote.webelement.WebElement (session=\"ea41107b2bd1683c4039a1a8cf45aee6\", element=\"70b1245f-be4f-40f7-8f37-f1fd422cc6a5\")>,\n",
       " <selenium.webdriver.remote.webelement.WebElement (session=\"ea41107b2bd1683c4039a1a8cf45aee6\", element=\"6fd0f8a2-3aea-4496-baac-ff8ccc20245c\")>,\n",
       " <selenium.webdriver.remote.webelement.WebElement (session=\"ea41107b2bd1683c4039a1a8cf45aee6\", element=\"392412a1-0335-44d7-8969-eb469c4511f0\")>,\n",
       " <selenium.webdriver.remote.webelement.WebElement (session=\"ea41107b2bd1683c4039a1a8cf45aee6\", element=\"33fb418f-355c-454d-8375-35752d9b5624\")>,\n",
       " <selenium.webdriver.remote.webelement.WebElement (session=\"ea41107b2bd1683c4039a1a8cf45aee6\", element=\"f5f2d2ee-b767-440c-b64d-3df7efc37408\")>,\n",
       " <selenium.webdriver.remote.webelement.WebElement (session=\"ea41107b2bd1683c4039a1a8cf45aee6\", element=\"2adbf64a-8b76-4870-91fb-35b02d947f53\")>,\n",
       " <selenium.webdriver.remote.webelement.WebElement (session=\"ea41107b2bd1683c4039a1a8cf45aee6\", element=\"e39c7b74-e83f-41d4-9f6e-eff445c2781c\")>,\n",
       " <selenium.webdriver.remote.webelement.WebElement (session=\"ea41107b2bd1683c4039a1a8cf45aee6\", element=\"63904ee7-e73a-48a9-b711-17638b142c0c\")>,\n",
       " <selenium.webdriver.remote.webelement.WebElement (session=\"ea41107b2bd1683c4039a1a8cf45aee6\", element=\"eb2c8d0d-8127-4ce9-9ab2-a5852e931e32\")>,\n",
       " <selenium.webdriver.remote.webelement.WebElement (session=\"ea41107b2bd1683c4039a1a8cf45aee6\", element=\"50230a93-c8a1-4cf5-9e17-b64e2a0b0467\")>,\n",
       " <selenium.webdriver.remote.webelement.WebElement (session=\"ea41107b2bd1683c4039a1a8cf45aee6\", element=\"8f0ca2c8-b49d-4b76-a50b-7c3db1ccbe08\")>,\n",
       " <selenium.webdriver.remote.webelement.WebElement (session=\"ea41107b2bd1683c4039a1a8cf45aee6\", element=\"ab00f63f-7a22-4541-bb43-89fa701ee253\")>,\n",
       " <selenium.webdriver.remote.webelement.WebElement (session=\"ea41107b2bd1683c4039a1a8cf45aee6\", element=\"85dcdcc5-9d7c-41ea-8462-894613672b5c\")>,\n",
       " <selenium.webdriver.remote.webelement.WebElement (session=\"ea41107b2bd1683c4039a1a8cf45aee6\", element=\"c110fedb-3ddd-4204-864c-1f9d7d6131a4\")>,\n",
       " <selenium.webdriver.remote.webelement.WebElement (session=\"ea41107b2bd1683c4039a1a8cf45aee6\", element=\"e26b8f79-bf2d-47b8-8117-85935928493a\")>,\n",
       " <selenium.webdriver.remote.webelement.WebElement (session=\"ea41107b2bd1683c4039a1a8cf45aee6\", element=\"19cfd635-a8cf-4d32-93d9-03df3f94127d\")>,\n",
       " <selenium.webdriver.remote.webelement.WebElement (session=\"ea41107b2bd1683c4039a1a8cf45aee6\", element=\"01ea8b26-72bf-4b3a-9105-6f6c3aa77334\")>,\n",
       " <selenium.webdriver.remote.webelement.WebElement (session=\"ea41107b2bd1683c4039a1a8cf45aee6\", element=\"eb503733-d3d8-46c6-ae11-c7397b7929a2\")>,\n",
       " <selenium.webdriver.remote.webelement.WebElement (session=\"ea41107b2bd1683c4039a1a8cf45aee6\", element=\"6e58e987-f782-434d-a733-d60c2e07f8ef\")>,\n",
       " <selenium.webdriver.remote.webelement.WebElement (session=\"ea41107b2bd1683c4039a1a8cf45aee6\", element=\"fd61b78e-ed5f-4394-8883-f63ad30b0117\")>,\n",
       " <selenium.webdriver.remote.webelement.WebElement (session=\"ea41107b2bd1683c4039a1a8cf45aee6\", element=\"7211e28f-3b94-465e-b3ff-325b1f268d41\")>,\n",
       " <selenium.webdriver.remote.webelement.WebElement (session=\"ea41107b2bd1683c4039a1a8cf45aee6\", element=\"69ffbfb3-e66e-48f7-8440-871bbef1a723\")>,\n",
       " <selenium.webdriver.remote.webelement.WebElement (session=\"ea41107b2bd1683c4039a1a8cf45aee6\", element=\"172cd7b7-ca50-41bb-8712-4fc90514a3f7\")>,\n",
       " <selenium.webdriver.remote.webelement.WebElement (session=\"ea41107b2bd1683c4039a1a8cf45aee6\", element=\"7b67b1e8-d6af-4851-af25-28fcd5316c6b\")>,\n",
       " <selenium.webdriver.remote.webelement.WebElement (session=\"ea41107b2bd1683c4039a1a8cf45aee6\", element=\"d42ada83-0135-4612-820e-3e3ffe2373e3\")>,\n",
       " <selenium.webdriver.remote.webelement.WebElement (session=\"ea41107b2bd1683c4039a1a8cf45aee6\", element=\"ab1e10ae-f310-4898-9014-c2540285c97d\")>,\n",
       " <selenium.webdriver.remote.webelement.WebElement (session=\"ea41107b2bd1683c4039a1a8cf45aee6\", element=\"f5f85b5b-9373-49d9-96db-fafc09fece68\")>,\n",
       " <selenium.webdriver.remote.webelement.WebElement (session=\"ea41107b2bd1683c4039a1a8cf45aee6\", element=\"b25533be-817a-40ff-a6dc-35e427510a74\")>,\n",
       " <selenium.webdriver.remote.webelement.WebElement (session=\"ea41107b2bd1683c4039a1a8cf45aee6\", element=\"bab46f48-dfcf-4b76-acc3-4a08844312c6\")>,\n",
       " <selenium.webdriver.remote.webelement.WebElement (session=\"ea41107b2bd1683c4039a1a8cf45aee6\", element=\"d4e4ed40-cfbc-472a-b731-4b70b014cfc6\")>,\n",
       " <selenium.webdriver.remote.webelement.WebElement (session=\"ea41107b2bd1683c4039a1a8cf45aee6\", element=\"3f0534f6-f345-4064-abd4-52c79e239616\")>,\n",
       " <selenium.webdriver.remote.webelement.WebElement (session=\"ea41107b2bd1683c4039a1a8cf45aee6\", element=\"f5e6e39c-ace8-4454-94e1-ae0fd7c9b2d3\")>,\n",
       " <selenium.webdriver.remote.webelement.WebElement (session=\"ea41107b2bd1683c4039a1a8cf45aee6\", element=\"1a91ce57-8139-4101-9938-868291b001da\")>,\n",
       " <selenium.webdriver.remote.webelement.WebElement (session=\"ea41107b2bd1683c4039a1a8cf45aee6\", element=\"fb384712-caf3-429b-b3da-a3dddfb032c5\")>,\n",
       " <selenium.webdriver.remote.webelement.WebElement (session=\"ea41107b2bd1683c4039a1a8cf45aee6\", element=\"fb61b0ee-fbaa-4c3d-aed1-85bf0af6a0b5\")>,\n",
       " <selenium.webdriver.remote.webelement.WebElement (session=\"ea41107b2bd1683c4039a1a8cf45aee6\", element=\"eea2279c-fb0a-4b48-9969-7d2aaa81421c\")>,\n",
       " <selenium.webdriver.remote.webelement.WebElement (session=\"ea41107b2bd1683c4039a1a8cf45aee6\", element=\"3bfe6eca-bdbf-4013-976e-fe2fa13cbb8a\")>,\n",
       " <selenium.webdriver.remote.webelement.WebElement (session=\"ea41107b2bd1683c4039a1a8cf45aee6\", element=\"c86fd60f-8805-4a0e-8dca-71bf17471188\")>,\n",
       " <selenium.webdriver.remote.webelement.WebElement (session=\"ea41107b2bd1683c4039a1a8cf45aee6\", element=\"af057e17-12dd-4509-851d-3c9d5eda6939\")>,\n",
       " <selenium.webdriver.remote.webelement.WebElement (session=\"ea41107b2bd1683c4039a1a8cf45aee6\", element=\"4aac6f54-8654-4cef-898f-7369b5fdbdb2\")>,\n",
       " <selenium.webdriver.remote.webelement.WebElement (session=\"ea41107b2bd1683c4039a1a8cf45aee6\", element=\"e56e1632-91df-4b71-8f7c-c41db392816c\")>,\n",
       " <selenium.webdriver.remote.webelement.WebElement (session=\"ea41107b2bd1683c4039a1a8cf45aee6\", element=\"b7ff04be-9e8e-4b73-8ddb-6c77246cd11c\")>,\n",
       " <selenium.webdriver.remote.webelement.WebElement (session=\"ea41107b2bd1683c4039a1a8cf45aee6\", element=\"d0507786-e470-4e05-b12b-98bcd8a9b798\")>,\n",
       " <selenium.webdriver.remote.webelement.WebElement (session=\"ea41107b2bd1683c4039a1a8cf45aee6\", element=\"fdbf9545-3f62-40fd-be1d-6a15bd26bafe\")>,\n",
       " <selenium.webdriver.remote.webelement.WebElement (session=\"ea41107b2bd1683c4039a1a8cf45aee6\", element=\"4d5778b3-df49-4ba7-9f08-9e5e20041e7d\")>,\n",
       " <selenium.webdriver.remote.webelement.WebElement (session=\"ea41107b2bd1683c4039a1a8cf45aee6\", element=\"43bb3970-1622-4c1f-a0b5-40e1203a7c14\")>,\n",
       " <selenium.webdriver.remote.webelement.WebElement (session=\"ea41107b2bd1683c4039a1a8cf45aee6\", element=\"ef83d09b-e4dd-4795-8c02-17abd7244d70\")>,\n",
       " <selenium.webdriver.remote.webelement.WebElement (session=\"ea41107b2bd1683c4039a1a8cf45aee6\", element=\"edbe4d09-08fb-4cf9-8df2-e589f31c5f13\")>,\n",
       " <selenium.webdriver.remote.webelement.WebElement (session=\"ea41107b2bd1683c4039a1a8cf45aee6\", element=\"1c81ce45-574d-4e80-8235-3f66a435220e\")>,\n",
       " <selenium.webdriver.remote.webelement.WebElement (session=\"ea41107b2bd1683c4039a1a8cf45aee6\", element=\"99c75de0-d5d9-4bc6-921a-dd7431e4ae8c\")>,\n",
       " <selenium.webdriver.remote.webelement.WebElement (session=\"ea41107b2bd1683c4039a1a8cf45aee6\", element=\"e6d37010-3945-4168-bc3a-5accd20353b1\")>,\n",
       " <selenium.webdriver.remote.webelement.WebElement (session=\"ea41107b2bd1683c4039a1a8cf45aee6\", element=\"5dc708a8-5e68-4761-86ca-c15cbce15a4f\")>,\n",
       " <selenium.webdriver.remote.webelement.WebElement (session=\"ea41107b2bd1683c4039a1a8cf45aee6\", element=\"37b2acc1-7082-48a3-aee3-62580f01cf9d\")>,\n",
       " <selenium.webdriver.remote.webelement.WebElement (session=\"ea41107b2bd1683c4039a1a8cf45aee6\", element=\"22ba8346-4f05-4d98-83e9-dcfe6a5f848e\")>,\n",
       " <selenium.webdriver.remote.webelement.WebElement (session=\"ea41107b2bd1683c4039a1a8cf45aee6\", element=\"211a978b-4a8d-41e2-b1d3-0792d1c0646a\")>,\n",
       " <selenium.webdriver.remote.webelement.WebElement (session=\"ea41107b2bd1683c4039a1a8cf45aee6\", element=\"e5d7c72a-d3b7-42b4-86de-f1cb5091878a\")>,\n",
       " <selenium.webdriver.remote.webelement.WebElement (session=\"ea41107b2bd1683c4039a1a8cf45aee6\", element=\"3f0bf1b7-860a-4f57-9a6e-64313bb6d535\")>,\n",
       " <selenium.webdriver.remote.webelement.WebElement (session=\"ea41107b2bd1683c4039a1a8cf45aee6\", element=\"d0bdcd42-37f9-45a3-b809-d027200e4759\")>,\n",
       " <selenium.webdriver.remote.webelement.WebElement (session=\"ea41107b2bd1683c4039a1a8cf45aee6\", element=\"d16ca3c0-5b91-4d16-9248-7b2687a55666\")>,\n",
       " <selenium.webdriver.remote.webelement.WebElement (session=\"ea41107b2bd1683c4039a1a8cf45aee6\", element=\"06d442f8-f124-4476-937d-7b5bdb2f9581\")>,\n",
       " <selenium.webdriver.remote.webelement.WebElement (session=\"ea41107b2bd1683c4039a1a8cf45aee6\", element=\"82dbf755-ab76-4651-8bda-af05665c9127\")>,\n",
       " <selenium.webdriver.remote.webelement.WebElement (session=\"ea41107b2bd1683c4039a1a8cf45aee6\", element=\"8866b6a2-4f82-46a9-81e8-7d70c3368a77\")>,\n",
       " <selenium.webdriver.remote.webelement.WebElement (session=\"ea41107b2bd1683c4039a1a8cf45aee6\", element=\"2f7ddb7c-a738-4613-940c-e1c429dab151\")>,\n",
       " <selenium.webdriver.remote.webelement.WebElement (session=\"ea41107b2bd1683c4039a1a8cf45aee6\", element=\"9efd3b57-eb9e-4cbe-b8fc-a759d4b41e7e\")>,\n",
       " <selenium.webdriver.remote.webelement.WebElement (session=\"ea41107b2bd1683c4039a1a8cf45aee6\", element=\"454b1f81-8aa3-44a1-aced-270f7cc4cfe1\")>,\n",
       " <selenium.webdriver.remote.webelement.WebElement (session=\"ea41107b2bd1683c4039a1a8cf45aee6\", element=\"51c1cdc6-600a-4cb2-889c-9b9a910a46ce\")>,\n",
       " <selenium.webdriver.remote.webelement.WebElement (session=\"ea41107b2bd1683c4039a1a8cf45aee6\", element=\"06160920-820a-482a-8b22-010f223955db\")>,\n",
       " <selenium.webdriver.remote.webelement.WebElement (session=\"ea41107b2bd1683c4039a1a8cf45aee6\", element=\"7eacb355-5d42-4a6f-99f7-5927cb6aa82b\")>,\n",
       " <selenium.webdriver.remote.webelement.WebElement (session=\"ea41107b2bd1683c4039a1a8cf45aee6\", element=\"12a038fb-cc8a-4820-af28-07da40a44e3d\")>,\n",
       " <selenium.webdriver.remote.webelement.WebElement (session=\"ea41107b2bd1683c4039a1a8cf45aee6\", element=\"830937ae-605a-43af-995d-ff27583f8ae2\")>,\n",
       " <selenium.webdriver.remote.webelement.WebElement (session=\"ea41107b2bd1683c4039a1a8cf45aee6\", element=\"6c1b1f6b-d9eb-4a67-ae8a-48a43070432c\")>,\n",
       " <selenium.webdriver.remote.webelement.WebElement (session=\"ea41107b2bd1683c4039a1a8cf45aee6\", element=\"0f6e51a3-5286-4386-8692-a312cac9b190\")>,\n",
       " <selenium.webdriver.remote.webelement.WebElement (session=\"ea41107b2bd1683c4039a1a8cf45aee6\", element=\"49eff068-88cc-4c57-8305-16ce2fc4c8f0\")>,\n",
       " <selenium.webdriver.remote.webelement.WebElement (session=\"ea41107b2bd1683c4039a1a8cf45aee6\", element=\"19685f0b-a0e0-43ab-90e2-500c719f2fdb\")>,\n",
       " <selenium.webdriver.remote.webelement.WebElement (session=\"ea41107b2bd1683c4039a1a8cf45aee6\", element=\"68de387c-4e29-4a0f-bd93-47b08305bf6c\")>,\n",
       " <selenium.webdriver.remote.webelement.WebElement (session=\"ea41107b2bd1683c4039a1a8cf45aee6\", element=\"93ad6ed8-d30d-4192-b1c6-82e1f8fbef9b\")>,\n",
       " <selenium.webdriver.remote.webelement.WebElement (session=\"ea41107b2bd1683c4039a1a8cf45aee6\", element=\"32f7dd00-591b-4c90-88e4-c54d2546dffb\")>,\n",
       " <selenium.webdriver.remote.webelement.WebElement (session=\"ea41107b2bd1683c4039a1a8cf45aee6\", element=\"1773a107-fb23-411a-b1d5-d8debc7a0966\")>,\n",
       " <selenium.webdriver.remote.webelement.WebElement (session=\"ea41107b2bd1683c4039a1a8cf45aee6\", element=\"b631ed43-380a-4ec1-a00b-cff2f76e1b67\")>,\n",
       " <selenium.webdriver.remote.webelement.WebElement (session=\"ea41107b2bd1683c4039a1a8cf45aee6\", element=\"d20d6f62-e8e7-4e81-96e4-494d307a13db\")>,\n",
       " <selenium.webdriver.remote.webelement.WebElement (session=\"ea41107b2bd1683c4039a1a8cf45aee6\", element=\"ff776941-21c1-4401-892f-cadee8adce29\")>,\n",
       " <selenium.webdriver.remote.webelement.WebElement (session=\"ea41107b2bd1683c4039a1a8cf45aee6\", element=\"7ea682dc-98a6-44b1-ad9c-64592dbe606c\")>,\n",
       " <selenium.webdriver.remote.webelement.WebElement (session=\"ea41107b2bd1683c4039a1a8cf45aee6\", element=\"4a5c34d7-4f79-4976-a648-2433684f8227\")>,\n",
       " <selenium.webdriver.remote.webelement.WebElement (session=\"ea41107b2bd1683c4039a1a8cf45aee6\", element=\"7f31a3c1-6973-4ca7-952d-fb75b2d8df61\")>,\n",
       " <selenium.webdriver.remote.webelement.WebElement (session=\"ea41107b2bd1683c4039a1a8cf45aee6\", element=\"91021a1e-d4f0-4e07-8ae3-6eabc9e7d567\")>,\n",
       " <selenium.webdriver.remote.webelement.WebElement (session=\"ea41107b2bd1683c4039a1a8cf45aee6\", element=\"29548834-fc03-44e6-ab9b-dd39464436a4\")>,\n",
       " <selenium.webdriver.remote.webelement.WebElement (session=\"ea41107b2bd1683c4039a1a8cf45aee6\", element=\"dce1312a-27a6-4f8f-b4db-fcccbe3f2bc7\")>,\n",
       " <selenium.webdriver.remote.webelement.WebElement (session=\"ea41107b2bd1683c4039a1a8cf45aee6\", element=\"b96dadb3-7964-46ca-b11e-833fbf6b7aee\")>,\n",
       " <selenium.webdriver.remote.webelement.WebElement (session=\"ea41107b2bd1683c4039a1a8cf45aee6\", element=\"2a64eb35-6646-4f79-b200-74be5a0f6cd5\")>,\n",
       " <selenium.webdriver.remote.webelement.WebElement (session=\"ea41107b2bd1683c4039a1a8cf45aee6\", element=\"2f901bb9-f69c-43fa-b86b-f2a71b1afce2\")>,\n",
       " <selenium.webdriver.remote.webelement.WebElement (session=\"ea41107b2bd1683c4039a1a8cf45aee6\", element=\"0279ba35-8d13-4542-9496-7764eec05b69\")>,\n",
       " <selenium.webdriver.remote.webelement.WebElement (session=\"ea41107b2bd1683c4039a1a8cf45aee6\", element=\"a722397b-1f1f-4e8b-894b-d60aa35fbd05\")>,\n",
       " <selenium.webdriver.remote.webelement.WebElement (session=\"ea41107b2bd1683c4039a1a8cf45aee6\", element=\"47d85329-56e8-4ee1-8dec-be6e91677245\")>,\n",
       " <selenium.webdriver.remote.webelement.WebElement (session=\"ea41107b2bd1683c4039a1a8cf45aee6\", element=\"03ab3321-1739-44b0-ac00-8e4d82ada249\")>,\n",
       " <selenium.webdriver.remote.webelement.WebElement (session=\"ea41107b2bd1683c4039a1a8cf45aee6\", element=\"20971e97-f1ca-4434-b51a-71e6161e20ac\")>,\n",
       " <selenium.webdriver.remote.webelement.WebElement (session=\"ea41107b2bd1683c4039a1a8cf45aee6\", element=\"046f5800-1e0d-4ca9-b4b2-a4f265f4f2c6\")>,\n",
       " <selenium.webdriver.remote.webelement.WebElement (session=\"ea41107b2bd1683c4039a1a8cf45aee6\", element=\"34def0b8-242b-4ba6-b3eb-623c48abc500\")>,\n",
       " <selenium.webdriver.remote.webelement.WebElement (session=\"ea41107b2bd1683c4039a1a8cf45aee6\", element=\"44854205-3082-4623-9578-756864d64a12\")>,\n",
       " <selenium.webdriver.remote.webelement.WebElement (session=\"ea41107b2bd1683c4039a1a8cf45aee6\", element=\"da11444d-a3b5-4774-a24b-48938489114d\")>,\n",
       " <selenium.webdriver.remote.webelement.WebElement (session=\"ea41107b2bd1683c4039a1a8cf45aee6\", element=\"bcb6184c-f398-4285-848d-9c01671cbe31\")>,\n",
       " <selenium.webdriver.remote.webelement.WebElement (session=\"ea41107b2bd1683c4039a1a8cf45aee6\", element=\"f743a60d-765b-403c-a890-e09c5aaf2b3e\")>,\n",
       " <selenium.webdriver.remote.webelement.WebElement (session=\"ea41107b2bd1683c4039a1a8cf45aee6\", element=\"051f15d7-e89f-4248-bd74-ad819161d201\")>,\n",
       " <selenium.webdriver.remote.webelement.WebElement (session=\"ea41107b2bd1683c4039a1a8cf45aee6\", element=\"804ba33d-3140-465d-bedd-5c9ee2d1a95a\")>,\n",
       " <selenium.webdriver.remote.webelement.WebElement (session=\"ea41107b2bd1683c4039a1a8cf45aee6\", element=\"f45763ef-ef2e-49fd-a041-82b342a2338d\")>,\n",
       " <selenium.webdriver.remote.webelement.WebElement (session=\"ea41107b2bd1683c4039a1a8cf45aee6\", element=\"63ea26a4-1345-4c98-b7a4-3909c765e091\")>,\n",
       " <selenium.webdriver.remote.webelement.WebElement (session=\"ea41107b2bd1683c4039a1a8cf45aee6\", element=\"7ed4c095-5b9e-40e5-885b-25b1b5140e9e\")>,\n",
       " <selenium.webdriver.remote.webelement.WebElement (session=\"ea41107b2bd1683c4039a1a8cf45aee6\", element=\"57cc9bd1-ac63-4745-8687-d421610eb260\")>,\n",
       " <selenium.webdriver.remote.webelement.WebElement (session=\"ea41107b2bd1683c4039a1a8cf45aee6\", element=\"854a83f3-b5c5-4f8f-ab4e-95bc8334a98d\")>,\n",
       " <selenium.webdriver.remote.webelement.WebElement (session=\"ea41107b2bd1683c4039a1a8cf45aee6\", element=\"d868216b-8dbf-4edd-85ed-62c1204300f3\")>,\n",
       " <selenium.webdriver.remote.webelement.WebElement (session=\"ea41107b2bd1683c4039a1a8cf45aee6\", element=\"9d1418a5-c11d-417f-b459-ba82dd09578d\")>,\n",
       " <selenium.webdriver.remote.webelement.WebElement (session=\"ea41107b2bd1683c4039a1a8cf45aee6\", element=\"15e5fcb3-6ff2-44af-8f0b-a9fdfe1695b4\")>,\n",
       " <selenium.webdriver.remote.webelement.WebElement (session=\"ea41107b2bd1683c4039a1a8cf45aee6\", element=\"0c0984ab-1ac6-45f2-8e51-cb451f4abdae\")>,\n",
       " <selenium.webdriver.remote.webelement.WebElement (session=\"ea41107b2bd1683c4039a1a8cf45aee6\", element=\"9df73912-cd28-40e2-ba17-bf14e17db503\")>,\n",
       " <selenium.webdriver.remote.webelement.WebElement (session=\"ea41107b2bd1683c4039a1a8cf45aee6\", element=\"de41a262-6df6-4196-af86-5b703b7023d7\")>,\n",
       " <selenium.webdriver.remote.webelement.WebElement (session=\"ea41107b2bd1683c4039a1a8cf45aee6\", element=\"ec48deda-2bcd-4f78-9d6f-57abcdfb26ea\")>,\n",
       " <selenium.webdriver.remote.webelement.WebElement (session=\"ea41107b2bd1683c4039a1a8cf45aee6\", element=\"dfb833ad-081b-4eac-9591-8b90b88594d0\")>,\n",
       " <selenium.webdriver.remote.webelement.WebElement (session=\"ea41107b2bd1683c4039a1a8cf45aee6\", element=\"66644047-f405-4f46-89c3-f33985c1d0aa\")>,\n",
       " <selenium.webdriver.remote.webelement.WebElement (session=\"ea41107b2bd1683c4039a1a8cf45aee6\", element=\"a7a91dea-de9c-4b72-b8a0-83d2ae208618\")>,\n",
       " <selenium.webdriver.remote.webelement.WebElement (session=\"ea41107b2bd1683c4039a1a8cf45aee6\", element=\"2305f205-3a17-4b80-b7e4-cca79b9a200a\")>,\n",
       " <selenium.webdriver.remote.webelement.WebElement (session=\"ea41107b2bd1683c4039a1a8cf45aee6\", element=\"09c43625-e1d3-4f63-88db-a208dce1b35a\")>,\n",
       " <selenium.webdriver.remote.webelement.WebElement (session=\"ea41107b2bd1683c4039a1a8cf45aee6\", element=\"b8a57fc6-de2a-40fc-b207-a1e209871395\")>,\n",
       " <selenium.webdriver.remote.webelement.WebElement (session=\"ea41107b2bd1683c4039a1a8cf45aee6\", element=\"89da34df-0f20-444e-a224-7fd1344e48f6\")>,\n",
       " <selenium.webdriver.remote.webelement.WebElement (session=\"ea41107b2bd1683c4039a1a8cf45aee6\", element=\"57fb82d9-bb7c-44e0-8113-c0b61f2596ec\")>,\n",
       " <selenium.webdriver.remote.webelement.WebElement (session=\"ea41107b2bd1683c4039a1a8cf45aee6\", element=\"21ca66c6-f1d4-4c30-8051-e105bbfe0e30\")>,\n",
       " <selenium.webdriver.remote.webelement.WebElement (session=\"ea41107b2bd1683c4039a1a8cf45aee6\", element=\"a0f253a6-265b-4477-a663-9165b5237178\")>,\n",
       " <selenium.webdriver.remote.webelement.WebElement (session=\"ea41107b2bd1683c4039a1a8cf45aee6\", element=\"f116d05d-4f31-4d6d-a4ee-7d22c40e1639\")>,\n",
       " <selenium.webdriver.remote.webelement.WebElement (session=\"ea41107b2bd1683c4039a1a8cf45aee6\", element=\"23cedb6a-5eef-4873-8649-dae582b23793\")>,\n",
       " <selenium.webdriver.remote.webelement.WebElement (session=\"ea41107b2bd1683c4039a1a8cf45aee6\", element=\"7a6e152a-1648-45e9-aa6c-f40fdd1d277e\")>,\n",
       " <selenium.webdriver.remote.webelement.WebElement (session=\"ea41107b2bd1683c4039a1a8cf45aee6\", element=\"26479c6d-8f5f-476c-92a3-e37139b140e1\")>,\n",
       " <selenium.webdriver.remote.webelement.WebElement (session=\"ea41107b2bd1683c4039a1a8cf45aee6\", element=\"732ea68d-ab26-42e3-8892-4f57fa8996b1\")>,\n",
       " <selenium.webdriver.remote.webelement.WebElement (session=\"ea41107b2bd1683c4039a1a8cf45aee6\", element=\"195de2a0-2bb6-4e10-b44c-67a8a08c527b\")>,\n",
       " <selenium.webdriver.remote.webelement.WebElement (session=\"ea41107b2bd1683c4039a1a8cf45aee6\", element=\"4e731247-226b-49fa-9650-a22363a87acb\")>,\n",
       " <selenium.webdriver.remote.webelement.WebElement (session=\"ea41107b2bd1683c4039a1a8cf45aee6\", element=\"2e502578-1685-4469-ba00-39b204a46c4f\")>,\n",
       " <selenium.webdriver.remote.webelement.WebElement (session=\"ea41107b2bd1683c4039a1a8cf45aee6\", element=\"8fa5b013-afd2-4bf0-8a66-1f0cf271c6e3\")>,\n",
       " <selenium.webdriver.remote.webelement.WebElement (session=\"ea41107b2bd1683c4039a1a8cf45aee6\", element=\"9c284c24-8eb2-4b28-b06b-a17e77c985ad\")>,\n",
       " <selenium.webdriver.remote.webelement.WebElement (session=\"ea41107b2bd1683c4039a1a8cf45aee6\", element=\"50ccffe2-2617-4e85-8b8b-73b2ae3c3eb4\")>,\n",
       " <selenium.webdriver.remote.webelement.WebElement (session=\"ea41107b2bd1683c4039a1a8cf45aee6\", element=\"7e0a7439-e928-4954-8b23-b8c7728af399\")>,\n",
       " <selenium.webdriver.remote.webelement.WebElement (session=\"ea41107b2bd1683c4039a1a8cf45aee6\", element=\"ed7cf924-a8f9-40d2-884d-2b83186fe240\")>,\n",
       " <selenium.webdriver.remote.webelement.WebElement (session=\"ea41107b2bd1683c4039a1a8cf45aee6\", element=\"0b4c3095-ee2d-494a-af9d-9ec110a51ad0\")>,\n",
       " <selenium.webdriver.remote.webelement.WebElement (session=\"ea41107b2bd1683c4039a1a8cf45aee6\", element=\"ba3fe062-c4d7-4e77-8d78-0f9094eee686\")>,\n",
       " <selenium.webdriver.remote.webelement.WebElement (session=\"ea41107b2bd1683c4039a1a8cf45aee6\", element=\"4471bbb5-20c6-45df-93f1-ff1dfde86032\")>,\n",
       " <selenium.webdriver.remote.webelement.WebElement (session=\"ea41107b2bd1683c4039a1a8cf45aee6\", element=\"9cb27072-a249-4d43-81b8-330bab26d691\")>,\n",
       " <selenium.webdriver.remote.webelement.WebElement (session=\"ea41107b2bd1683c4039a1a8cf45aee6\", element=\"657700ad-271c-4778-8bb6-bd4458aad4b1\")>,\n",
       " <selenium.webdriver.remote.webelement.WebElement (session=\"ea41107b2bd1683c4039a1a8cf45aee6\", element=\"e140f590-d2d5-4abb-94eb-2db6223178b1\")>,\n",
       " <selenium.webdriver.remote.webelement.WebElement (session=\"ea41107b2bd1683c4039a1a8cf45aee6\", element=\"f338e011-c04e-46d2-a754-754ddc0c2ec5\")>,\n",
       " <selenium.webdriver.remote.webelement.WebElement (session=\"ea41107b2bd1683c4039a1a8cf45aee6\", element=\"6776dcf5-d89c-41d3-847c-5f0d53626335\")>,\n",
       " <selenium.webdriver.remote.webelement.WebElement (session=\"ea41107b2bd1683c4039a1a8cf45aee6\", element=\"3fdda971-8f95-4b49-ab7e-15c8077b9566\")>,\n",
       " <selenium.webdriver.remote.webelement.WebElement (session=\"ea41107b2bd1683c4039a1a8cf45aee6\", element=\"a8e0953c-7d75-45c2-95c4-3b3d086362e1\")>,\n",
       " <selenium.webdriver.remote.webelement.WebElement (session=\"ea41107b2bd1683c4039a1a8cf45aee6\", element=\"660ebd81-ee34-4a7b-a39a-23eba54858d0\")>,\n",
       " <selenium.webdriver.remote.webelement.WebElement (session=\"ea41107b2bd1683c4039a1a8cf45aee6\", element=\"44a2bac3-6cbd-450c-9ae4-f2d56af067cb\")>,\n",
       " <selenium.webdriver.remote.webelement.WebElement (session=\"ea41107b2bd1683c4039a1a8cf45aee6\", element=\"a5bc730b-5866-4ce8-9083-fa6721731cf5\")>,\n",
       " <selenium.webdriver.remote.webelement.WebElement (session=\"ea41107b2bd1683c4039a1a8cf45aee6\", element=\"563d902e-7562-43df-9ea2-70fc361ada4c\")>,\n",
       " <selenium.webdriver.remote.webelement.WebElement (session=\"ea41107b2bd1683c4039a1a8cf45aee6\", element=\"5d239a33-1d5a-4561-b16a-39324a249a64\")>,\n",
       " <selenium.webdriver.remote.webelement.WebElement (session=\"ea41107b2bd1683c4039a1a8cf45aee6\", element=\"1835aea1-72b2-4fa2-9e14-a16f6e499144\")>,\n",
       " <selenium.webdriver.remote.webelement.WebElement (session=\"ea41107b2bd1683c4039a1a8cf45aee6\", element=\"be3bfdae-beff-4ba8-9832-51bf12cd869d\")>,\n",
       " <selenium.webdriver.remote.webelement.WebElement (session=\"ea41107b2bd1683c4039a1a8cf45aee6\", element=\"55d62eba-67b9-4857-b32b-060cb65478f6\")>,\n",
       " <selenium.webdriver.remote.webelement.WebElement (session=\"ea41107b2bd1683c4039a1a8cf45aee6\", element=\"9bfa698e-9d5d-4046-bb93-97d032ddedb8\")>,\n",
       " <selenium.webdriver.remote.webelement.WebElement (session=\"ea41107b2bd1683c4039a1a8cf45aee6\", element=\"18599f25-d79e-47c0-a93e-2118f5611016\")>,\n",
       " <selenium.webdriver.remote.webelement.WebElement (session=\"ea41107b2bd1683c4039a1a8cf45aee6\", element=\"51b4a688-8363-4c6e-841a-26e8909f3c9e\")>,\n",
       " <selenium.webdriver.remote.webelement.WebElement (session=\"ea41107b2bd1683c4039a1a8cf45aee6\", element=\"e6aa6f0b-1ad6-4061-bcae-f86164e0f6fb\")>,\n",
       " <selenium.webdriver.remote.webelement.WebElement (session=\"ea41107b2bd1683c4039a1a8cf45aee6\", element=\"a85702ee-319b-4f73-b6e8-de20a720e8d3\")>,\n",
       " <selenium.webdriver.remote.webelement.WebElement (session=\"ea41107b2bd1683c4039a1a8cf45aee6\", element=\"9b78703b-4aea-4b1b-a5fc-ebbe870a0d2b\")>,\n",
       " <selenium.webdriver.remote.webelement.WebElement (session=\"ea41107b2bd1683c4039a1a8cf45aee6\", element=\"7b6d3c4d-c172-4aed-bf63-a6a873fe5074\")>,\n",
       " <selenium.webdriver.remote.webelement.WebElement (session=\"ea41107b2bd1683c4039a1a8cf45aee6\", element=\"5af4d414-7fac-4252-9c46-b027460d7550\")>,\n",
       " <selenium.webdriver.remote.webelement.WebElement (session=\"ea41107b2bd1683c4039a1a8cf45aee6\", element=\"3e5c29d6-aa4f-41e2-8d7f-b4cf1cd02250\")>,\n",
       " <selenium.webdriver.remote.webelement.WebElement (session=\"ea41107b2bd1683c4039a1a8cf45aee6\", element=\"d8b2be76-e975-48ed-8a09-e2b72399385d\")>,\n",
       " <selenium.webdriver.remote.webelement.WebElement (session=\"ea41107b2bd1683c4039a1a8cf45aee6\", element=\"677d0da5-bbf2-447e-9a18-eb47cf01dd92\")>,\n",
       " <selenium.webdriver.remote.webelement.WebElement (session=\"ea41107b2bd1683c4039a1a8cf45aee6\", element=\"67e4b055-1ecc-4e59-a058-8d12fb4bf990\")>,\n",
       " <selenium.webdriver.remote.webelement.WebElement (session=\"ea41107b2bd1683c4039a1a8cf45aee6\", element=\"1eda3533-76c2-4289-b435-cdf0c1fb377d\")>,\n",
       " <selenium.webdriver.remote.webelement.WebElement (session=\"ea41107b2bd1683c4039a1a8cf45aee6\", element=\"c91c3675-ec78-439d-b3b0-7b87dbcede11\")>,\n",
       " <selenium.webdriver.remote.webelement.WebElement (session=\"ea41107b2bd1683c4039a1a8cf45aee6\", element=\"a224fac0-1a0b-4861-8908-787b8cf22a4d\")>,\n",
       " <selenium.webdriver.remote.webelement.WebElement (session=\"ea41107b2bd1683c4039a1a8cf45aee6\", element=\"7bc38e16-acce-434b-8027-525a0b2e3b84\")>,\n",
       " <selenium.webdriver.remote.webelement.WebElement (session=\"ea41107b2bd1683c4039a1a8cf45aee6\", element=\"3af33d08-a940-431f-aa14-54e09b2d6419\")>,\n",
       " <selenium.webdriver.remote.webelement.WebElement (session=\"ea41107b2bd1683c4039a1a8cf45aee6\", element=\"6431e4c9-be24-4dc5-be47-b2ff332bc18e\")>,\n",
       " <selenium.webdriver.remote.webelement.WebElement (session=\"ea41107b2bd1683c4039a1a8cf45aee6\", element=\"39b220b2-64ab-4a4b-84df-57158d4644aa\")>,\n",
       " <selenium.webdriver.remote.webelement.WebElement (session=\"ea41107b2bd1683c4039a1a8cf45aee6\", element=\"9fea93cd-e8f5-455c-bb6c-38af4862c5d0\")>,\n",
       " <selenium.webdriver.remote.webelement.WebElement (session=\"ea41107b2bd1683c4039a1a8cf45aee6\", element=\"8e9adcde-c61d-4602-a0eb-9ff8dde6466d\")>,\n",
       " <selenium.webdriver.remote.webelement.WebElement (session=\"ea41107b2bd1683c4039a1a8cf45aee6\", element=\"dbf001c7-d3c9-4f99-a0f5-517e55790f9d\")>,\n",
       " <selenium.webdriver.remote.webelement.WebElement (session=\"ea41107b2bd1683c4039a1a8cf45aee6\", element=\"2a5e37eb-9cbb-490d-98cd-8947b2087084\")>,\n",
       " <selenium.webdriver.remote.webelement.WebElement (session=\"ea41107b2bd1683c4039a1a8cf45aee6\", element=\"ca23cd9c-362b-4baf-bd51-0abb51843c06\")>,\n",
       " <selenium.webdriver.remote.webelement.WebElement (session=\"ea41107b2bd1683c4039a1a8cf45aee6\", element=\"e2851e31-3d13-4fb3-ad68-2450755ec163\")>,\n",
       " <selenium.webdriver.remote.webelement.WebElement (session=\"ea41107b2bd1683c4039a1a8cf45aee6\", element=\"a3d7aa42-1620-486d-8f96-a63cc8363933\")>,\n",
       " <selenium.webdriver.remote.webelement.WebElement (session=\"ea41107b2bd1683c4039a1a8cf45aee6\", element=\"a2951efc-f07d-4e77-abfc-278491a17c38\")>,\n",
       " <selenium.webdriver.remote.webelement.WebElement (session=\"ea41107b2bd1683c4039a1a8cf45aee6\", element=\"67731ae7-0ede-47b8-a65c-e1f6c68c91bf\")>,\n",
       " <selenium.webdriver.remote.webelement.WebElement (session=\"ea41107b2bd1683c4039a1a8cf45aee6\", element=\"03356a1f-ac79-41f5-8b3c-2c3d094f42b2\")>,\n",
       " <selenium.webdriver.remote.webelement.WebElement (session=\"ea41107b2bd1683c4039a1a8cf45aee6\", element=\"998f3eb7-103c-4da2-a8ea-19f3b5649aa8\")>,\n",
       " <selenium.webdriver.remote.webelement.WebElement (session=\"ea41107b2bd1683c4039a1a8cf45aee6\", element=\"5e35e53c-2840-4652-8ee4-36b2e80bf846\")>,\n",
       " <selenium.webdriver.remote.webelement.WebElement (session=\"ea41107b2bd1683c4039a1a8cf45aee6\", element=\"ee53fdc8-c12d-4233-aa0d-d13db2dee672\")>,\n",
       " <selenium.webdriver.remote.webelement.WebElement (session=\"ea41107b2bd1683c4039a1a8cf45aee6\", element=\"d183a9db-47ec-4c15-ab22-d8e7dae3f78e\")>,\n",
       " <selenium.webdriver.remote.webelement.WebElement (session=\"ea41107b2bd1683c4039a1a8cf45aee6\", element=\"66e65744-b860-462f-aa19-ba01c532316b\")>,\n",
       " <selenium.webdriver.remote.webelement.WebElement (session=\"ea41107b2bd1683c4039a1a8cf45aee6\", element=\"78ff7b59-87bc-4187-acef-50ec1d5fe6f0\")>,\n",
       " <selenium.webdriver.remote.webelement.WebElement (session=\"ea41107b2bd1683c4039a1a8cf45aee6\", element=\"a29c4117-99a2-4613-b23d-d08a5176a62d\")>,\n",
       " <selenium.webdriver.remote.webelement.WebElement (session=\"ea41107b2bd1683c4039a1a8cf45aee6\", element=\"d3d19f98-5df7-40a9-9eb5-fab57756f6ec\")>,\n",
       " <selenium.webdriver.remote.webelement.WebElement (session=\"ea41107b2bd1683c4039a1a8cf45aee6\", element=\"6cf17d4a-050b-4992-b8b8-7e808081a519\")>,\n",
       " <selenium.webdriver.remote.webelement.WebElement (session=\"ea41107b2bd1683c4039a1a8cf45aee6\", element=\"90f44838-948f-4578-8e05-5ec4b9ba0731\")>,\n",
       " <selenium.webdriver.remote.webelement.WebElement (session=\"ea41107b2bd1683c4039a1a8cf45aee6\", element=\"df549f85-3446-459e-b042-489970d5cf18\")>,\n",
       " <selenium.webdriver.remote.webelement.WebElement (session=\"ea41107b2bd1683c4039a1a8cf45aee6\", element=\"d89a664b-a017-4a14-8f14-d903c68506f7\")>,\n",
       " <selenium.webdriver.remote.webelement.WebElement (session=\"ea41107b2bd1683c4039a1a8cf45aee6\", element=\"f53da866-1953-4b39-b395-1454f8c9569c\")>,\n",
       " <selenium.webdriver.remote.webelement.WebElement (session=\"ea41107b2bd1683c4039a1a8cf45aee6\", element=\"bcf44e7f-708a-4bf8-a6fd-99ed6be4db49\")>,\n",
       " <selenium.webdriver.remote.webelement.WebElement (session=\"ea41107b2bd1683c4039a1a8cf45aee6\", element=\"7844b0d6-09c3-4503-a314-008bc43406bf\")>,\n",
       " <selenium.webdriver.remote.webelement.WebElement (session=\"ea41107b2bd1683c4039a1a8cf45aee6\", element=\"468ca219-8f95-412b-ad65-810571e29693\")>,\n",
       " <selenium.webdriver.remote.webelement.WebElement (session=\"ea41107b2bd1683c4039a1a8cf45aee6\", element=\"2acfb902-7956-43f7-ab40-66dbe19ec1cb\")>,\n",
       " <selenium.webdriver.remote.webelement.WebElement (session=\"ea41107b2bd1683c4039a1a8cf45aee6\", element=\"2748d859-2f43-4e75-b2d8-ffc8bac15998\")>,\n",
       " <selenium.webdriver.remote.webelement.WebElement (session=\"ea41107b2bd1683c4039a1a8cf45aee6\", element=\"e224113d-659b-49d5-8acd-9b12f94b58fc\")>,\n",
       " <selenium.webdriver.remote.webelement.WebElement (session=\"ea41107b2bd1683c4039a1a8cf45aee6\", element=\"858916df-34ca-4432-aef7-17ee2fcd9e16\")>,\n",
       " <selenium.webdriver.remote.webelement.WebElement (session=\"ea41107b2bd1683c4039a1a8cf45aee6\", element=\"47f61c6a-69d6-48db-9a62-95ab62e34d88\")>,\n",
       " <selenium.webdriver.remote.webelement.WebElement (session=\"ea41107b2bd1683c4039a1a8cf45aee6\", element=\"001db158-cc3d-4807-9394-2d1194152766\")>,\n",
       " <selenium.webdriver.remote.webelement.WebElement (session=\"ea41107b2bd1683c4039a1a8cf45aee6\", element=\"45d49ef2-8959-44ee-8a9e-9cd871913a4b\")>,\n",
       " <selenium.webdriver.remote.webelement.WebElement (session=\"ea41107b2bd1683c4039a1a8cf45aee6\", element=\"e47c9652-f13b-4407-bf39-2881177d9ca9\")>,\n",
       " <selenium.webdriver.remote.webelement.WebElement (session=\"ea41107b2bd1683c4039a1a8cf45aee6\", element=\"4bc1778b-f3fd-47f7-bdf8-17427a4a3fb4\")>,\n",
       " <selenium.webdriver.remote.webelement.WebElement (session=\"ea41107b2bd1683c4039a1a8cf45aee6\", element=\"48669b7d-b639-413f-a681-37320e709c63\")>,\n",
       " <selenium.webdriver.remote.webelement.WebElement (session=\"ea41107b2bd1683c4039a1a8cf45aee6\", element=\"4a6b907f-8354-4dd6-94ae-7a897882f6f0\")>,\n",
       " <selenium.webdriver.remote.webelement.WebElement (session=\"ea41107b2bd1683c4039a1a8cf45aee6\", element=\"cb767b1d-8c8e-4949-8e99-96b4397bef7a\")>,\n",
       " <selenium.webdriver.remote.webelement.WebElement (session=\"ea41107b2bd1683c4039a1a8cf45aee6\", element=\"d7854180-90a7-400c-b02f-2c24d5952d9b\")>,\n",
       " <selenium.webdriver.remote.webelement.WebElement (session=\"ea41107b2bd1683c4039a1a8cf45aee6\", element=\"35033836-180e-4b41-8263-a0cf51acff34\")>,\n",
       " <selenium.webdriver.remote.webelement.WebElement (session=\"ea41107b2bd1683c4039a1a8cf45aee6\", element=\"30186eba-78e4-400e-a955-27c170602166\")>,\n",
       " <selenium.webdriver.remote.webelement.WebElement (session=\"ea41107b2bd1683c4039a1a8cf45aee6\", element=\"cf415ab2-322a-4912-a964-ddfe72bc9bad\")>,\n",
       " <selenium.webdriver.remote.webelement.WebElement (session=\"ea41107b2bd1683c4039a1a8cf45aee6\", element=\"d5615d03-d7e9-493e-9558-d535b607740e\")>,\n",
       " <selenium.webdriver.remote.webelement.WebElement (session=\"ea41107b2bd1683c4039a1a8cf45aee6\", element=\"2a9eb895-7de5-4c45-9882-d0a890c05b7f\")>,\n",
       " <selenium.webdriver.remote.webelement.WebElement (session=\"ea41107b2bd1683c4039a1a8cf45aee6\", element=\"474ff876-4c9f-4622-833e-2dd9bc9f0c17\")>,\n",
       " <selenium.webdriver.remote.webelement.WebElement (session=\"ea41107b2bd1683c4039a1a8cf45aee6\", element=\"131c3963-c40a-4a8c-be03-b3601898a297\")>,\n",
       " <selenium.webdriver.remote.webelement.WebElement (session=\"ea41107b2bd1683c4039a1a8cf45aee6\", element=\"133c7df5-2a0a-4af6-a9aa-bc2b16bfba9a\")>,\n",
       " <selenium.webdriver.remote.webelement.WebElement (session=\"ea41107b2bd1683c4039a1a8cf45aee6\", element=\"7e1d45c9-dd32-4b9f-9f2d-6cca01de760e\")>,\n",
       " <selenium.webdriver.remote.webelement.WebElement (session=\"ea41107b2bd1683c4039a1a8cf45aee6\", element=\"34e81209-1b55-49c6-a9cb-88917da0dbc0\")>,\n",
       " <selenium.webdriver.remote.webelement.WebElement (session=\"ea41107b2bd1683c4039a1a8cf45aee6\", element=\"d9909320-e5d3-452a-a4f6-5f98ca404b63\")>,\n",
       " <selenium.webdriver.remote.webelement.WebElement (session=\"ea41107b2bd1683c4039a1a8cf45aee6\", element=\"6d58814a-cf25-4144-8670-4b96b36c8b93\")>,\n",
       " <selenium.webdriver.remote.webelement.WebElement (session=\"ea41107b2bd1683c4039a1a8cf45aee6\", element=\"c6f4c900-6b03-4fa7-9741-428528a5d3d1\")>,\n",
       " <selenium.webdriver.remote.webelement.WebElement (session=\"ea41107b2bd1683c4039a1a8cf45aee6\", element=\"81ee9065-671e-4adc-aec7-f2954abfcfbf\")>,\n",
       " <selenium.webdriver.remote.webelement.WebElement (session=\"ea41107b2bd1683c4039a1a8cf45aee6\", element=\"46c0cc20-5e19-423d-a233-a1e9655a6343\")>,\n",
       " <selenium.webdriver.remote.webelement.WebElement (session=\"ea41107b2bd1683c4039a1a8cf45aee6\", element=\"f7f3f9cd-d9a8-446c-a73e-2a145de37695\")>,\n",
       " <selenium.webdriver.remote.webelement.WebElement (session=\"ea41107b2bd1683c4039a1a8cf45aee6\", element=\"bd1ae473-ec25-4fdb-b70f-50c488950a82\")>,\n",
       " <selenium.webdriver.remote.webelement.WebElement (session=\"ea41107b2bd1683c4039a1a8cf45aee6\", element=\"5fbd6f7d-70b1-4b09-922f-3f4239ffff98\")>,\n",
       " <selenium.webdriver.remote.webelement.WebElement (session=\"ea41107b2bd1683c4039a1a8cf45aee6\", element=\"4a604e86-229e-4a3f-a89d-bc557a8cede8\")>,\n",
       " <selenium.webdriver.remote.webelement.WebElement (session=\"ea41107b2bd1683c4039a1a8cf45aee6\", element=\"dacdfa67-0b94-4577-9473-fdf6d04977d1\")>,\n",
       " <selenium.webdriver.remote.webelement.WebElement (session=\"ea41107b2bd1683c4039a1a8cf45aee6\", element=\"72b88a97-98de-47ef-a422-50948bba8aca\")>,\n",
       " <selenium.webdriver.remote.webelement.WebElement (session=\"ea41107b2bd1683c4039a1a8cf45aee6\", element=\"81d7c0ad-825b-4b3d-a0ce-e0c4da5e6ca0\")>,\n",
       " <selenium.webdriver.remote.webelement.WebElement (session=\"ea41107b2bd1683c4039a1a8cf45aee6\", element=\"35eeac8c-6b4f-4768-bb1e-fa940c8db6dd\")>,\n",
       " <selenium.webdriver.remote.webelement.WebElement (session=\"ea41107b2bd1683c4039a1a8cf45aee6\", element=\"f86375cd-d205-41cb-80c9-1cf761a6ac31\")>,\n",
       " <selenium.webdriver.remote.webelement.WebElement (session=\"ea41107b2bd1683c4039a1a8cf45aee6\", element=\"15041062-c690-473e-bdb8-39a071e56e0c\")>,\n",
       " <selenium.webdriver.remote.webelement.WebElement (session=\"ea41107b2bd1683c4039a1a8cf45aee6\", element=\"cc38a5ef-3f23-473f-8ad5-d3847cea451d\")>,\n",
       " <selenium.webdriver.remote.webelement.WebElement (session=\"ea41107b2bd1683c4039a1a8cf45aee6\", element=\"742964a4-4254-4825-86ae-894fbe18f5ce\")>,\n",
       " <selenium.webdriver.remote.webelement.WebElement (session=\"ea41107b2bd1683c4039a1a8cf45aee6\", element=\"eb6ebe79-df50-4155-9ccf-fb4239ceb784\")>,\n",
       " <selenium.webdriver.remote.webelement.WebElement (session=\"ea41107b2bd1683c4039a1a8cf45aee6\", element=\"aaa7134d-290f-4de4-adf2-6935bc49f825\")>,\n",
       " <selenium.webdriver.remote.webelement.WebElement (session=\"ea41107b2bd1683c4039a1a8cf45aee6\", element=\"e2610fa3-7120-4b63-a4e6-63a74ab825ad\")>,\n",
       " <selenium.webdriver.remote.webelement.WebElement (session=\"ea41107b2bd1683c4039a1a8cf45aee6\", element=\"b65bc547-d084-4b86-961e-8761c86e1b77\")>,\n",
       " <selenium.webdriver.remote.webelement.WebElement (session=\"ea41107b2bd1683c4039a1a8cf45aee6\", element=\"2f1472fd-a48c-4fe8-9383-e530e1c7cf9a\")>,\n",
       " <selenium.webdriver.remote.webelement.WebElement (session=\"ea41107b2bd1683c4039a1a8cf45aee6\", element=\"c07972c3-731e-4639-902b-ae0449113875\")>,\n",
       " <selenium.webdriver.remote.webelement.WebElement (session=\"ea41107b2bd1683c4039a1a8cf45aee6\", element=\"cf3dc744-2331-412f-ac94-08725367449c\")>,\n",
       " <selenium.webdriver.remote.webelement.WebElement (session=\"ea41107b2bd1683c4039a1a8cf45aee6\", element=\"5b1b1525-8736-452f-b7b6-95de11472ea3\")>,\n",
       " <selenium.webdriver.remote.webelement.WebElement (session=\"ea41107b2bd1683c4039a1a8cf45aee6\", element=\"fe7462d0-a06b-4512-874c-e96dc1d89640\")>,\n",
       " <selenium.webdriver.remote.webelement.WebElement (session=\"ea41107b2bd1683c4039a1a8cf45aee6\", element=\"616407a4-892d-421f-97a6-716f2bcad5e0\")>,\n",
       " <selenium.webdriver.remote.webelement.WebElement (session=\"ea41107b2bd1683c4039a1a8cf45aee6\", element=\"b85cc36c-23dd-415d-ae77-9a350d2f0947\")>,\n",
       " <selenium.webdriver.remote.webelement.WebElement (session=\"ea41107b2bd1683c4039a1a8cf45aee6\", element=\"627f307e-158f-4a9a-b548-08d66c5badf7\")>,\n",
       " <selenium.webdriver.remote.webelement.WebElement (session=\"ea41107b2bd1683c4039a1a8cf45aee6\", element=\"fac48556-4128-4e16-a2c0-e8d1ebfa7390\")>,\n",
       " <selenium.webdriver.remote.webelement.WebElement (session=\"ea41107b2bd1683c4039a1a8cf45aee6\", element=\"9996110f-664a-4740-b2c9-b6f1c01883f0\")>,\n",
       " <selenium.webdriver.remote.webelement.WebElement (session=\"ea41107b2bd1683c4039a1a8cf45aee6\", element=\"635bc3bd-9c59-4cc7-8b7e-26ed32f3a000\")>,\n",
       " <selenium.webdriver.remote.webelement.WebElement (session=\"ea41107b2bd1683c4039a1a8cf45aee6\", element=\"994b52f6-fc53-4cf3-a1a3-c930228843ef\")>,\n",
       " <selenium.webdriver.remote.webelement.WebElement (session=\"ea41107b2bd1683c4039a1a8cf45aee6\", element=\"5e262b55-96d3-48db-ba6d-0dc66634b0cc\")>,\n",
       " <selenium.webdriver.remote.webelement.WebElement (session=\"ea41107b2bd1683c4039a1a8cf45aee6\", element=\"bcf27a7f-2a83-4920-9d28-54f849f94503\")>,\n",
       " <selenium.webdriver.remote.webelement.WebElement (session=\"ea41107b2bd1683c4039a1a8cf45aee6\", element=\"50a6c34a-8e62-49c7-b0c7-de4b9cc7d750\")>,\n",
       " <selenium.webdriver.remote.webelement.WebElement (session=\"ea41107b2bd1683c4039a1a8cf45aee6\", element=\"ddb58b13-44c6-48ee-8cac-6797a342ec8e\")>,\n",
       " <selenium.webdriver.remote.webelement.WebElement (session=\"ea41107b2bd1683c4039a1a8cf45aee6\", element=\"2ef315fd-0ad7-411b-b678-eafa3fd7f499\")>,\n",
       " <selenium.webdriver.remote.webelement.WebElement (session=\"ea41107b2bd1683c4039a1a8cf45aee6\", element=\"54420937-26d7-4a04-8e44-3b1ddad7c1df\")>,\n",
       " <selenium.webdriver.remote.webelement.WebElement (session=\"ea41107b2bd1683c4039a1a8cf45aee6\", element=\"8be312c9-ee0c-429a-8126-542e750d6395\")>,\n",
       " <selenium.webdriver.remote.webelement.WebElement (session=\"ea41107b2bd1683c4039a1a8cf45aee6\", element=\"dd97ad90-fe33-4d98-99db-a611a79b6d6f\")>,\n",
       " <selenium.webdriver.remote.webelement.WebElement (session=\"ea41107b2bd1683c4039a1a8cf45aee6\", element=\"f7e9f70f-86a5-4869-8c6e-16e72f0c00ce\")>,\n",
       " <selenium.webdriver.remote.webelement.WebElement (session=\"ea41107b2bd1683c4039a1a8cf45aee6\", element=\"589e4f50-d4b2-4d90-a3c9-b54bef6cc33a\")>,\n",
       " <selenium.webdriver.remote.webelement.WebElement (session=\"ea41107b2bd1683c4039a1a8cf45aee6\", element=\"b9722aea-29fc-4749-a75b-b7d34840a22a\")>,\n",
       " <selenium.webdriver.remote.webelement.WebElement (session=\"ea41107b2bd1683c4039a1a8cf45aee6\", element=\"82fc04ec-c954-42ee-a285-c04c10992d13\")>,\n",
       " <selenium.webdriver.remote.webelement.WebElement (session=\"ea41107b2bd1683c4039a1a8cf45aee6\", element=\"0c426fca-50b5-45c8-92bd-c2ff8b06a607\")>,\n",
       " <selenium.webdriver.remote.webelement.WebElement (session=\"ea41107b2bd1683c4039a1a8cf45aee6\", element=\"bc928ae4-4ae3-4e99-be3e-c108fe288e94\")>,\n",
       " <selenium.webdriver.remote.webelement.WebElement (session=\"ea41107b2bd1683c4039a1a8cf45aee6\", element=\"c0661858-1e6c-466b-83eb-fe7ef7abe95b\")>,\n",
       " <selenium.webdriver.remote.webelement.WebElement (session=\"ea41107b2bd1683c4039a1a8cf45aee6\", element=\"2f035a74-e59c-4b86-b582-26931bb1faf0\")>,\n",
       " <selenium.webdriver.remote.webelement.WebElement (session=\"ea41107b2bd1683c4039a1a8cf45aee6\", element=\"902f9b82-91a3-47ce-87dd-357bffa645e5\")>,\n",
       " <selenium.webdriver.remote.webelement.WebElement (session=\"ea41107b2bd1683c4039a1a8cf45aee6\", element=\"874b4ef5-f56d-479d-8390-5e1d01b01b64\")>,\n",
       " <selenium.webdriver.remote.webelement.WebElement (session=\"ea41107b2bd1683c4039a1a8cf45aee6\", element=\"0f2dee6a-1795-4c5b-a2d9-84dd978bc0bc\")>,\n",
       " <selenium.webdriver.remote.webelement.WebElement (session=\"ea41107b2bd1683c4039a1a8cf45aee6\", element=\"1c81eecb-f767-4e02-8df0-83603608d37a\")>,\n",
       " <selenium.webdriver.remote.webelement.WebElement (session=\"ea41107b2bd1683c4039a1a8cf45aee6\", element=\"e0ee2fca-fe0a-4be5-aa08-24f40d116bd1\")>,\n",
       " <selenium.webdriver.remote.webelement.WebElement (session=\"ea41107b2bd1683c4039a1a8cf45aee6\", element=\"0a356e0f-2b3d-4695-a932-4faab41ded13\")>,\n",
       " <selenium.webdriver.remote.webelement.WebElement (session=\"ea41107b2bd1683c4039a1a8cf45aee6\", element=\"aff0633c-b88a-4eb6-bab5-461017510c43\")>,\n",
       " <selenium.webdriver.remote.webelement.WebElement (session=\"ea41107b2bd1683c4039a1a8cf45aee6\", element=\"e0fd2238-384f-46ec-a944-cb55e0b68f8a\")>,\n",
       " <selenium.webdriver.remote.webelement.WebElement (session=\"ea41107b2bd1683c4039a1a8cf45aee6\", element=\"0d6ba8ca-b7ce-4798-8ee2-0be5be642387\")>,\n",
       " <selenium.webdriver.remote.webelement.WebElement (session=\"ea41107b2bd1683c4039a1a8cf45aee6\", element=\"1eb70c5e-f364-4b50-8243-04361c5c0bd8\")>,\n",
       " <selenium.webdriver.remote.webelement.WebElement (session=\"ea41107b2bd1683c4039a1a8cf45aee6\", element=\"64f4d537-6ba6-4983-b32c-8e9b86e8f522\")>,\n",
       " <selenium.webdriver.remote.webelement.WebElement (session=\"ea41107b2bd1683c4039a1a8cf45aee6\", element=\"f39886e9-4f36-4105-b14f-685ee25555ea\")>,\n",
       " <selenium.webdriver.remote.webelement.WebElement (session=\"ea41107b2bd1683c4039a1a8cf45aee6\", element=\"43041819-10b2-4164-a8ca-676fe16a1bc8\")>,\n",
       " <selenium.webdriver.remote.webelement.WebElement (session=\"ea41107b2bd1683c4039a1a8cf45aee6\", element=\"aec966f6-1f97-43cb-b874-5abf9baf53df\")>,\n",
       " <selenium.webdriver.remote.webelement.WebElement (session=\"ea41107b2bd1683c4039a1a8cf45aee6\", element=\"32841f89-8a97-44f5-947b-6dbc4e18661a\")>,\n",
       " <selenium.webdriver.remote.webelement.WebElement (session=\"ea41107b2bd1683c4039a1a8cf45aee6\", element=\"af844273-3c52-48dd-8e84-af907ee6aa8a\")>,\n",
       " <selenium.webdriver.remote.webelement.WebElement (session=\"ea41107b2bd1683c4039a1a8cf45aee6\", element=\"b1b7e151-9140-4193-be67-943ccecaa4b6\")>,\n",
       " <selenium.webdriver.remote.webelement.WebElement (session=\"ea41107b2bd1683c4039a1a8cf45aee6\", element=\"0e5422d4-69a2-42a9-82f7-42e875d99145\")>,\n",
       " <selenium.webdriver.remote.webelement.WebElement (session=\"ea41107b2bd1683c4039a1a8cf45aee6\", element=\"a10e516b-070a-47d7-92ef-74785d06ce3d\")>,\n",
       " <selenium.webdriver.remote.webelement.WebElement (session=\"ea41107b2bd1683c4039a1a8cf45aee6\", element=\"0f898ed5-33f4-4e75-9eb2-84bb278f738d\")>,\n",
       " <selenium.webdriver.remote.webelement.WebElement (session=\"ea41107b2bd1683c4039a1a8cf45aee6\", element=\"73c98af0-6305-44d2-9468-62f172b899ed\")>,\n",
       " <selenium.webdriver.remote.webelement.WebElement (session=\"ea41107b2bd1683c4039a1a8cf45aee6\", element=\"d82ec8e9-beff-4d2f-9610-2da3526913f8\")>,\n",
       " <selenium.webdriver.remote.webelement.WebElement (session=\"ea41107b2bd1683c4039a1a8cf45aee6\", element=\"36b580d6-710d-4cd8-a14e-9a3b47af05e3\")>,\n",
       " <selenium.webdriver.remote.webelement.WebElement (session=\"ea41107b2bd1683c4039a1a8cf45aee6\", element=\"8f15d8a6-5171-4f79-a3f8-d3ea50a31c70\")>,\n",
       " <selenium.webdriver.remote.webelement.WebElement (session=\"ea41107b2bd1683c4039a1a8cf45aee6\", element=\"224803e0-5f8b-45e5-971a-5dd46dec3e34\")>,\n",
       " <selenium.webdriver.remote.webelement.WebElement (session=\"ea41107b2bd1683c4039a1a8cf45aee6\", element=\"decb867e-3cb9-446f-a841-9971e2512d02\")>,\n",
       " <selenium.webdriver.remote.webelement.WebElement (session=\"ea41107b2bd1683c4039a1a8cf45aee6\", element=\"ff1b345b-436b-4acf-a1ce-f4f29284664e\")>,\n",
       " <selenium.webdriver.remote.webelement.WebElement (session=\"ea41107b2bd1683c4039a1a8cf45aee6\", element=\"fc6fc265-b99f-431c-8d7d-ceb8b1bd4fce\")>,\n",
       " <selenium.webdriver.remote.webelement.WebElement (session=\"ea41107b2bd1683c4039a1a8cf45aee6\", element=\"c93ee0d4-2a1a-4c01-a5ff-9377a22f50d9\")>,\n",
       " <selenium.webdriver.remote.webelement.WebElement (session=\"ea41107b2bd1683c4039a1a8cf45aee6\", element=\"ff383635-a9a4-444e-b3fb-6f50c6d7bf77\")>,\n",
       " <selenium.webdriver.remote.webelement.WebElement (session=\"ea41107b2bd1683c4039a1a8cf45aee6\", element=\"9ed19a62-2876-43a3-9003-c21e13202f00\")>,\n",
       " <selenium.webdriver.remote.webelement.WebElement (session=\"ea41107b2bd1683c4039a1a8cf45aee6\", element=\"005b5951-65a0-4353-8c0c-1c8841c4f8cd\")>,\n",
       " <selenium.webdriver.remote.webelement.WebElement (session=\"ea41107b2bd1683c4039a1a8cf45aee6\", element=\"b1bf6cb3-17f7-4c88-9b42-0a0eef978710\")>,\n",
       " <selenium.webdriver.remote.webelement.WebElement (session=\"ea41107b2bd1683c4039a1a8cf45aee6\", element=\"895d139d-a76e-4b59-9093-d7ae248dd5d9\")>,\n",
       " <selenium.webdriver.remote.webelement.WebElement (session=\"ea41107b2bd1683c4039a1a8cf45aee6\", element=\"f73d59d9-699d-499f-9f3c-edb844002481\")>,\n",
       " <selenium.webdriver.remote.webelement.WebElement (session=\"ea41107b2bd1683c4039a1a8cf45aee6\", element=\"d9e5bc35-f3c8-44df-99f3-4f6e5697f7d9\")>,\n",
       " <selenium.webdriver.remote.webelement.WebElement (session=\"ea41107b2bd1683c4039a1a8cf45aee6\", element=\"6258f3d0-175c-4bf7-a7ce-c9cb2ef24764\")>,\n",
       " <selenium.webdriver.remote.webelement.WebElement (session=\"ea41107b2bd1683c4039a1a8cf45aee6\", element=\"f21e982e-ce20-4027-a3b7-852b14b246a2\")>,\n",
       " <selenium.webdriver.remote.webelement.WebElement (session=\"ea41107b2bd1683c4039a1a8cf45aee6\", element=\"8b3e5368-0d74-4ef2-a819-b9025a50eb35\")>,\n",
       " <selenium.webdriver.remote.webelement.WebElement (session=\"ea41107b2bd1683c4039a1a8cf45aee6\", element=\"7169f63e-a2c0-4eb5-8388-8ef9a21866ec\")>,\n",
       " <selenium.webdriver.remote.webelement.WebElement (session=\"ea41107b2bd1683c4039a1a8cf45aee6\", element=\"ca72b6cd-af4f-4c15-8570-1370cbc7ed47\")>,\n",
       " <selenium.webdriver.remote.webelement.WebElement (session=\"ea41107b2bd1683c4039a1a8cf45aee6\", element=\"9e0a5432-a982-4233-a9ed-d38c24453344\")>,\n",
       " <selenium.webdriver.remote.webelement.WebElement (session=\"ea41107b2bd1683c4039a1a8cf45aee6\", element=\"cecc73fc-2d92-4eef-83a9-463847f538b5\")>,\n",
       " <selenium.webdriver.remote.webelement.WebElement (session=\"ea41107b2bd1683c4039a1a8cf45aee6\", element=\"cd22b040-49a7-4525-835a-8a61df0b38c2\")>,\n",
       " <selenium.webdriver.remote.webelement.WebElement (session=\"ea41107b2bd1683c4039a1a8cf45aee6\", element=\"376b1992-0788-468f-a51a-e55012b7b361\")>,\n",
       " <selenium.webdriver.remote.webelement.WebElement (session=\"ea41107b2bd1683c4039a1a8cf45aee6\", element=\"3ed24650-6eed-4115-bebb-0d65bd44dce2\")>,\n",
       " <selenium.webdriver.remote.webelement.WebElement (session=\"ea41107b2bd1683c4039a1a8cf45aee6\", element=\"77db9458-d3b1-4a11-b53d-e1115015981d\")>,\n",
       " <selenium.webdriver.remote.webelement.WebElement (session=\"ea41107b2bd1683c4039a1a8cf45aee6\", element=\"e98b1442-38ac-4506-bcad-2da0ae649161\")>,\n",
       " <selenium.webdriver.remote.webelement.WebElement (session=\"ea41107b2bd1683c4039a1a8cf45aee6\", element=\"259b49b8-d656-4a76-86f3-a9e657917615\")>,\n",
       " <selenium.webdriver.remote.webelement.WebElement (session=\"ea41107b2bd1683c4039a1a8cf45aee6\", element=\"6ad3463d-ec6b-48da-888e-ae6f6bdad29f\")>,\n",
       " <selenium.webdriver.remote.webelement.WebElement (session=\"ea41107b2bd1683c4039a1a8cf45aee6\", element=\"bc7cd7fb-68bd-4f8f-bd93-ec24ed047374\")>,\n",
       " <selenium.webdriver.remote.webelement.WebElement (session=\"ea41107b2bd1683c4039a1a8cf45aee6\", element=\"acb73888-76b0-4fbf-8b57-8d0c11309160\")>,\n",
       " <selenium.webdriver.remote.webelement.WebElement (session=\"ea41107b2bd1683c4039a1a8cf45aee6\", element=\"406cf225-51a3-4549-9d69-0459b0981eb2\")>,\n",
       " <selenium.webdriver.remote.webelement.WebElement (session=\"ea41107b2bd1683c4039a1a8cf45aee6\", element=\"464efb79-4d51-44ab-8d70-55f3fa70529f\")>,\n",
       " <selenium.webdriver.remote.webelement.WebElement (session=\"ea41107b2bd1683c4039a1a8cf45aee6\", element=\"e4e22ccf-d3f8-4930-8a83-bc0fa1f8435d\")>,\n",
       " <selenium.webdriver.remote.webelement.WebElement (session=\"ea41107b2bd1683c4039a1a8cf45aee6\", element=\"d9fc30f4-86f1-49e1-a49f-1ea8fd56c065\")>,\n",
       " <selenium.webdriver.remote.webelement.WebElement (session=\"ea41107b2bd1683c4039a1a8cf45aee6\", element=\"1cf64c18-a8da-4ca8-8556-b41c6219bbd2\")>,\n",
       " <selenium.webdriver.remote.webelement.WebElement (session=\"ea41107b2bd1683c4039a1a8cf45aee6\", element=\"32459f8f-92a2-463a-b2ab-912be3e6df8d\")>,\n",
       " <selenium.webdriver.remote.webelement.WebElement (session=\"ea41107b2bd1683c4039a1a8cf45aee6\", element=\"e6cc2c73-b572-4a12-98fe-316cbe46e6a4\")>,\n",
       " <selenium.webdriver.remote.webelement.WebElement (session=\"ea41107b2bd1683c4039a1a8cf45aee6\", element=\"350d0b7b-eadf-4e6e-9917-6105bcfbcd79\")>,\n",
       " <selenium.webdriver.remote.webelement.WebElement (session=\"ea41107b2bd1683c4039a1a8cf45aee6\", element=\"160d71ce-87e0-48c1-9096-a11d56c04f46\")>,\n",
       " <selenium.webdriver.remote.webelement.WebElement (session=\"ea41107b2bd1683c4039a1a8cf45aee6\", element=\"06cab8b1-babc-45f1-959a-f0193eb59381\")>,\n",
       " <selenium.webdriver.remote.webelement.WebElement (session=\"ea41107b2bd1683c4039a1a8cf45aee6\", element=\"6ce7f7ee-8d9e-45cd-aa35-2649c37fe73a\")>,\n",
       " <selenium.webdriver.remote.webelement.WebElement (session=\"ea41107b2bd1683c4039a1a8cf45aee6\", element=\"a920516b-5cde-47e6-89f4-6a4b4ede3ffe\")>,\n",
       " <selenium.webdriver.remote.webelement.WebElement (session=\"ea41107b2bd1683c4039a1a8cf45aee6\", element=\"e69df0b0-cb07-4543-9b5b-064893e1271b\")>,\n",
       " <selenium.webdriver.remote.webelement.WebElement (session=\"ea41107b2bd1683c4039a1a8cf45aee6\", element=\"bded5e40-4e0c-4213-aced-846221f8dd34\")>,\n",
       " <selenium.webdriver.remote.webelement.WebElement (session=\"ea41107b2bd1683c4039a1a8cf45aee6\", element=\"976b13ba-250f-416e-b37c-4a5d8e6cc53d\")>,\n",
       " <selenium.webdriver.remote.webelement.WebElement (session=\"ea41107b2bd1683c4039a1a8cf45aee6\", element=\"710c718f-0fa1-476b-9996-d779feee210c\")>,\n",
       " <selenium.webdriver.remote.webelement.WebElement (session=\"ea41107b2bd1683c4039a1a8cf45aee6\", element=\"ad3313f1-99d5-4eb3-ad6f-44a48e5c1565\")>,\n",
       " <selenium.webdriver.remote.webelement.WebElement (session=\"ea41107b2bd1683c4039a1a8cf45aee6\", element=\"fe0adf74-d52e-4690-b13e-f4be432f93be\")>,\n",
       " <selenium.webdriver.remote.webelement.WebElement (session=\"ea41107b2bd1683c4039a1a8cf45aee6\", element=\"c65a92bc-6d00-433f-9b2a-1e9de802271b\")>,\n",
       " <selenium.webdriver.remote.webelement.WebElement (session=\"ea41107b2bd1683c4039a1a8cf45aee6\", element=\"ece5222c-256b-418e-81f0-c92ddb2fb068\")>,\n",
       " <selenium.webdriver.remote.webelement.WebElement (session=\"ea41107b2bd1683c4039a1a8cf45aee6\", element=\"286935e0-a18c-41c2-bbc2-438a2fa466d1\")>,\n",
       " <selenium.webdriver.remote.webelement.WebElement (session=\"ea41107b2bd1683c4039a1a8cf45aee6\", element=\"88e733ed-2bfc-4173-a597-f514a675b643\")>,\n",
       " <selenium.webdriver.remote.webelement.WebElement (session=\"ea41107b2bd1683c4039a1a8cf45aee6\", element=\"6d62263b-e605-4b88-918c-10c1bc5066ec\")>,\n",
       " <selenium.webdriver.remote.webelement.WebElement (session=\"ea41107b2bd1683c4039a1a8cf45aee6\", element=\"da55e824-82b4-4e2f-91f3-c3bad1517bb0\")>,\n",
       " <selenium.webdriver.remote.webelement.WebElement (session=\"ea41107b2bd1683c4039a1a8cf45aee6\", element=\"5a549175-f02a-47c8-a065-061c439decb8\")>,\n",
       " <selenium.webdriver.remote.webelement.WebElement (session=\"ea41107b2bd1683c4039a1a8cf45aee6\", element=\"98d5fce2-2c75-4620-b9ab-f7ae2d748515\")>,\n",
       " <selenium.webdriver.remote.webelement.WebElement (session=\"ea41107b2bd1683c4039a1a8cf45aee6\", element=\"9f69fb51-b862-4d42-9284-918f69f5c2db\")>,\n",
       " <selenium.webdriver.remote.webelement.WebElement (session=\"ea41107b2bd1683c4039a1a8cf45aee6\", element=\"d66c8f3a-68b9-4223-8baa-dc19668b8fc3\")>,\n",
       " <selenium.webdriver.remote.webelement.WebElement (session=\"ea41107b2bd1683c4039a1a8cf45aee6\", element=\"462eaf4e-5db4-49cc-87d6-074e83d467d9\")>,\n",
       " <selenium.webdriver.remote.webelement.WebElement (session=\"ea41107b2bd1683c4039a1a8cf45aee6\", element=\"de31077d-f8d7-4fb1-82e8-9b2f4c7ebe08\")>,\n",
       " <selenium.webdriver.remote.webelement.WebElement (session=\"ea41107b2bd1683c4039a1a8cf45aee6\", element=\"862f10a0-cd23-41bd-8b22-a143dde43370\")>,\n",
       " <selenium.webdriver.remote.webelement.WebElement (session=\"ea41107b2bd1683c4039a1a8cf45aee6\", element=\"89eceb0b-6894-44a3-b5df-d083b86a2b21\")>,\n",
       " <selenium.webdriver.remote.webelement.WebElement (session=\"ea41107b2bd1683c4039a1a8cf45aee6\", element=\"cf8024cc-ecf0-4614-a8bf-935be94c4090\")>,\n",
       " <selenium.webdriver.remote.webelement.WebElement (session=\"ea41107b2bd1683c4039a1a8cf45aee6\", element=\"f99b1d85-3f0a-4f29-a1b2-b3c9f093de35\")>,\n",
       " <selenium.webdriver.remote.webelement.WebElement (session=\"ea41107b2bd1683c4039a1a8cf45aee6\", element=\"85960e68-21d9-4926-ba48-6652a51232f7\")>,\n",
       " <selenium.webdriver.remote.webelement.WebElement (session=\"ea41107b2bd1683c4039a1a8cf45aee6\", element=\"10dbb4b1-c273-4e89-8996-37c31ec94f1c\")>,\n",
       " <selenium.webdriver.remote.webelement.WebElement (session=\"ea41107b2bd1683c4039a1a8cf45aee6\", element=\"95d94185-0438-49e6-9746-c21a21eeb861\")>,\n",
       " <selenium.webdriver.remote.webelement.WebElement (session=\"ea41107b2bd1683c4039a1a8cf45aee6\", element=\"b0c45777-0674-49de-93e1-1c3294c9f943\")>,\n",
       " <selenium.webdriver.remote.webelement.WebElement (session=\"ea41107b2bd1683c4039a1a8cf45aee6\", element=\"82788ad3-c071-4e33-a703-2c4efa02f0c9\")>,\n",
       " <selenium.webdriver.remote.webelement.WebElement (session=\"ea41107b2bd1683c4039a1a8cf45aee6\", element=\"629f5eb0-4c67-4222-8fdb-65e8777ed708\")>,\n",
       " <selenium.webdriver.remote.webelement.WebElement (session=\"ea41107b2bd1683c4039a1a8cf45aee6\", element=\"c51257f4-ac9e-40e7-9fd7-c3fc399f0215\")>,\n",
       " <selenium.webdriver.remote.webelement.WebElement (session=\"ea41107b2bd1683c4039a1a8cf45aee6\", element=\"afcaec8d-aa64-4547-a863-d7a7c7c783bb\")>,\n",
       " <selenium.webdriver.remote.webelement.WebElement (session=\"ea41107b2bd1683c4039a1a8cf45aee6\", element=\"d03047ab-28c3-43d1-8793-4c40015f0fe0\")>,\n",
       " <selenium.webdriver.remote.webelement.WebElement (session=\"ea41107b2bd1683c4039a1a8cf45aee6\", element=\"8b65652f-471e-44b1-8aa1-687c3c3e6422\")>,\n",
       " <selenium.webdriver.remote.webelement.WebElement (session=\"ea41107b2bd1683c4039a1a8cf45aee6\", element=\"21052a59-cddc-41ca-8518-d05ad385453f\")>,\n",
       " <selenium.webdriver.remote.webelement.WebElement (session=\"ea41107b2bd1683c4039a1a8cf45aee6\", element=\"46b956af-3c40-4d04-8f3c-c7894265600e\")>,\n",
       " <selenium.webdriver.remote.webelement.WebElement (session=\"ea41107b2bd1683c4039a1a8cf45aee6\", element=\"b3ae7691-bff5-4015-a1ed-c7bd26c26028\")>,\n",
       " <selenium.webdriver.remote.webelement.WebElement (session=\"ea41107b2bd1683c4039a1a8cf45aee6\", element=\"2ce1760d-9bfa-4b71-9c2a-d5d48e4eec50\")>,\n",
       " <selenium.webdriver.remote.webelement.WebElement (session=\"ea41107b2bd1683c4039a1a8cf45aee6\", element=\"afdbedb7-a50e-41b9-93e1-0aec1f21b3eb\")>,\n",
       " <selenium.webdriver.remote.webelement.WebElement (session=\"ea41107b2bd1683c4039a1a8cf45aee6\", element=\"aa40fbc8-b032-41fb-9e8f-ca490e0c02ff\")>,\n",
       " <selenium.webdriver.remote.webelement.WebElement (session=\"ea41107b2bd1683c4039a1a8cf45aee6\", element=\"e34307fb-42f6-4e18-a288-4ed47b2514a0\")>,\n",
       " <selenium.webdriver.remote.webelement.WebElement (session=\"ea41107b2bd1683c4039a1a8cf45aee6\", element=\"186b17bf-4460-47ff-a316-b334455e4ae6\")>,\n",
       " <selenium.webdriver.remote.webelement.WebElement (session=\"ea41107b2bd1683c4039a1a8cf45aee6\", element=\"a2d50c6f-28d2-4f86-92d0-890f1aae0ee9\")>,\n",
       " <selenium.webdriver.remote.webelement.WebElement (session=\"ea41107b2bd1683c4039a1a8cf45aee6\", element=\"4e35bf82-3a0e-4f55-a86b-023c42d98401\")>,\n",
       " <selenium.webdriver.remote.webelement.WebElement (session=\"ea41107b2bd1683c4039a1a8cf45aee6\", element=\"78776495-6310-47ed-b7ea-d4b68d94670c\")>,\n",
       " <selenium.webdriver.remote.webelement.WebElement (session=\"ea41107b2bd1683c4039a1a8cf45aee6\", element=\"06c7459a-cadf-4ed6-bdad-2e74d6caa207\")>,\n",
       " <selenium.webdriver.remote.webelement.WebElement (session=\"ea41107b2bd1683c4039a1a8cf45aee6\", element=\"8e1244ea-ac9e-441d-8509-393baffb0da5\")>,\n",
       " <selenium.webdriver.remote.webelement.WebElement (session=\"ea41107b2bd1683c4039a1a8cf45aee6\", element=\"7671a7a0-f482-4ce4-8b2b-70b28ec152f7\")>,\n",
       " <selenium.webdriver.remote.webelement.WebElement (session=\"ea41107b2bd1683c4039a1a8cf45aee6\", element=\"8a65e5a1-a5ae-4b4b-86f9-9ff946c17a36\")>,\n",
       " <selenium.webdriver.remote.webelement.WebElement (session=\"ea41107b2bd1683c4039a1a8cf45aee6\", element=\"d49ee7a7-69a6-4895-913b-f73ba46a8342\")>,\n",
       " <selenium.webdriver.remote.webelement.WebElement (session=\"ea41107b2bd1683c4039a1a8cf45aee6\", element=\"f86933d9-e888-4e64-a585-7632e2c8fa16\")>,\n",
       " <selenium.webdriver.remote.webelement.WebElement (session=\"ea41107b2bd1683c4039a1a8cf45aee6\", element=\"89eb9190-fe04-4802-8aa7-5be7a48bdff7\")>,\n",
       " <selenium.webdriver.remote.webelement.WebElement (session=\"ea41107b2bd1683c4039a1a8cf45aee6\", element=\"0978787a-ebc3-4dd1-8b2f-4885cdb21b1b\")>,\n",
       " <selenium.webdriver.remote.webelement.WebElement (session=\"ea41107b2bd1683c4039a1a8cf45aee6\", element=\"fb9dbfda-ac64-493a-aa82-2e00311faabf\")>,\n",
       " <selenium.webdriver.remote.webelement.WebElement (session=\"ea41107b2bd1683c4039a1a8cf45aee6\", element=\"82b4c987-ee4a-4090-922a-1b49d88b134b\")>,\n",
       " <selenium.webdriver.remote.webelement.WebElement (session=\"ea41107b2bd1683c4039a1a8cf45aee6\", element=\"1f1c7ad6-c828-4a36-b84e-8819752195ee\")>,\n",
       " <selenium.webdriver.remote.webelement.WebElement (session=\"ea41107b2bd1683c4039a1a8cf45aee6\", element=\"3402d3ee-5650-42c1-946a-abd591f9acec\")>,\n",
       " <selenium.webdriver.remote.webelement.WebElement (session=\"ea41107b2bd1683c4039a1a8cf45aee6\", element=\"dcda4887-da86-4780-9971-978e3b8548c7\")>,\n",
       " <selenium.webdriver.remote.webelement.WebElement (session=\"ea41107b2bd1683c4039a1a8cf45aee6\", element=\"a13ff7c5-e9a8-4cb6-ab67-2d7d22e945f2\")>,\n",
       " <selenium.webdriver.remote.webelement.WebElement (session=\"ea41107b2bd1683c4039a1a8cf45aee6\", element=\"5581e1ed-32d3-4531-b92f-744be1751596\")>,\n",
       " <selenium.webdriver.remote.webelement.WebElement (session=\"ea41107b2bd1683c4039a1a8cf45aee6\", element=\"b29ef254-1584-4282-a80b-1328315bd8c9\")>,\n",
       " <selenium.webdriver.remote.webelement.WebElement (session=\"ea41107b2bd1683c4039a1a8cf45aee6\", element=\"2520df4e-fb8a-4548-9ebc-575163ce3508\")>,\n",
       " <selenium.webdriver.remote.webelement.WebElement (session=\"ea41107b2bd1683c4039a1a8cf45aee6\", element=\"9faa9e69-94f6-40b2-a6e9-f00a50f8960c\")>,\n",
       " <selenium.webdriver.remote.webelement.WebElement (session=\"ea41107b2bd1683c4039a1a8cf45aee6\", element=\"b9553a45-884a-42fa-8130-510ba47d1eac\")>,\n",
       " <selenium.webdriver.remote.webelement.WebElement (session=\"ea41107b2bd1683c4039a1a8cf45aee6\", element=\"6c4a4b6d-d4de-4c60-92b1-e96418a6bcf7\")>,\n",
       " <selenium.webdriver.remote.webelement.WebElement (session=\"ea41107b2bd1683c4039a1a8cf45aee6\", element=\"db3c1668-21d3-41be-9222-88971304fc0a\")>,\n",
       " <selenium.webdriver.remote.webelement.WebElement (session=\"ea41107b2bd1683c4039a1a8cf45aee6\", element=\"22957137-b52a-4083-9ea7-58cfcc99e932\")>,\n",
       " <selenium.webdriver.remote.webelement.WebElement (session=\"ea41107b2bd1683c4039a1a8cf45aee6\", element=\"5029e931-6e32-43a8-9b51-c47379e1baf2\")>,\n",
       " <selenium.webdriver.remote.webelement.WebElement (session=\"ea41107b2bd1683c4039a1a8cf45aee6\", element=\"1c33f1bf-4f33-40fe-8237-a2fc264052bb\")>,\n",
       " <selenium.webdriver.remote.webelement.WebElement (session=\"ea41107b2bd1683c4039a1a8cf45aee6\", element=\"343c3436-337a-489d-93dd-6cc9b49d8f80\")>,\n",
       " <selenium.webdriver.remote.webelement.WebElement (session=\"ea41107b2bd1683c4039a1a8cf45aee6\", element=\"911d2a42-a36f-441e-bb2f-16d151cd4ec1\")>,\n",
       " <selenium.webdriver.remote.webelement.WebElement (session=\"ea41107b2bd1683c4039a1a8cf45aee6\", element=\"7f72ebe9-7943-4b2b-b7b9-bad02bee1653\")>,\n",
       " <selenium.webdriver.remote.webelement.WebElement (session=\"ea41107b2bd1683c4039a1a8cf45aee6\", element=\"274d3adb-4718-4fab-aef4-be143c6fa1da\")>,\n",
       " <selenium.webdriver.remote.webelement.WebElement (session=\"ea41107b2bd1683c4039a1a8cf45aee6\", element=\"c228a83d-d34a-4528-9a02-b3caa0e387c1\")>,\n",
       " <selenium.webdriver.remote.webelement.WebElement (session=\"ea41107b2bd1683c4039a1a8cf45aee6\", element=\"7afd5514-0e05-4d9d-85bd-9717579f75e9\")>,\n",
       " <selenium.webdriver.remote.webelement.WebElement (session=\"ea41107b2bd1683c4039a1a8cf45aee6\", element=\"7e9d9818-fdc3-49ce-aae6-64d4aac3e8be\")>,\n",
       " <selenium.webdriver.remote.webelement.WebElement (session=\"ea41107b2bd1683c4039a1a8cf45aee6\", element=\"fb62681b-883f-455c-bd25-fffc3140d373\")>,\n",
       " <selenium.webdriver.remote.webelement.WebElement (session=\"ea41107b2bd1683c4039a1a8cf45aee6\", element=\"c65ebf61-07f8-437a-b114-2b57b50dc39d\")>,\n",
       " <selenium.webdriver.remote.webelement.WebElement (session=\"ea41107b2bd1683c4039a1a8cf45aee6\", element=\"b80b9dec-3a68-4c3e-a27a-f183d9e09cf4\")>,\n",
       " <selenium.webdriver.remote.webelement.WebElement (session=\"ea41107b2bd1683c4039a1a8cf45aee6\", element=\"032715e3-9dc0-4372-ae3b-689a7217a8fa\")>,\n",
       " <selenium.webdriver.remote.webelement.WebElement (session=\"ea41107b2bd1683c4039a1a8cf45aee6\", element=\"26a469c0-424d-420a-bfc0-c196d6cd846c\")>,\n",
       " <selenium.webdriver.remote.webelement.WebElement (session=\"ea41107b2bd1683c4039a1a8cf45aee6\", element=\"6b958f5d-8734-4f55-bb1b-5ed4f37f28ab\")>,\n",
       " <selenium.webdriver.remote.webelement.WebElement (session=\"ea41107b2bd1683c4039a1a8cf45aee6\", element=\"064a3133-22a4-42aa-bea1-131ee366bb1e\")>,\n",
       " <selenium.webdriver.remote.webelement.WebElement (session=\"ea41107b2bd1683c4039a1a8cf45aee6\", element=\"4dc1672b-c3c6-4525-9ef7-cdfdc03024c5\")>,\n",
       " <selenium.webdriver.remote.webelement.WebElement (session=\"ea41107b2bd1683c4039a1a8cf45aee6\", element=\"9231e75b-4bb7-42b3-bfc4-f8cdb82a2924\")>,\n",
       " <selenium.webdriver.remote.webelement.WebElement (session=\"ea41107b2bd1683c4039a1a8cf45aee6\", element=\"e9004834-f911-454c-bc31-a3e8f650ab6b\")>,\n",
       " <selenium.webdriver.remote.webelement.WebElement (session=\"ea41107b2bd1683c4039a1a8cf45aee6\", element=\"dba88f31-2c3c-432c-96b0-e9e8c05f6230\")>]"
      ]
     },
     "execution_count": 39,
     "metadata": {},
     "output_type": "execute_result"
    }
   ],
   "source": [
    "url = 'https://search.naver.com/search.naver?sm=tab_hty.top&where=image&query=강아지'#image&query=원하는 검색이미지\n",
    "#드라이버 html 요청\n",
    "driver = wb.Chrome()\n",
    "driver.get(url)\n",
    "\n",
    "# 로딩시간이 필요함\n",
    "time.sleep(2)\n",
    "\n",
    "# 스크롤을 내리기-> 이미지가 다 보이게 하는 것\n",
    "for i in range(6):\n",
    "    driver.find_element(By.TAG_NAME, value = 'body').send_keys(Keys.END)\n",
    "    time.sleep(2)\n",
    "    \n",
    "# 이미지 태그 접근\n",
    "imgs = driver.find_elements(By.CSS_SELECTOR, value= \"._image._listImage\")\n",
    "imgs"
   ]
  },
  {
   "cell_type": "code",
   "execution_count": 40,
   "id": "d14d3ee3",
   "metadata": {
    "ExecuteTime": {
     "end_time": "2022-12-20T03:51:36.844603Z",
     "start_time": "2022-12-20T03:51:36.830641Z"
    }
   },
   "outputs": [
    {
     "name": "stdout",
     "output_type": "stream",
     "text": [
      "480\n"
     ]
    }
   ],
   "source": [
    "print(len(imgs))"
   ]
  },
  {
   "cell_type": "code",
   "execution_count": 41,
   "id": "2e6101fc",
   "metadata": {
    "ExecuteTime": {
     "end_time": "2022-12-20T03:52:32.748626Z",
     "start_time": "2022-12-20T03:52:15.463004Z"
    }
   },
   "outputs": [],
   "source": [
    "src_lst= [] # 올바른 주소 저장하는 리스트\n",
    "for i in range(len(imgs)):\n",
    "    src = imgs[i].get_attribute('src')\n",
    "    if src[:4] !='data': #올바른 주소\n",
    "        src_lst.append(src)\n",
    "        \n",
    "        \n",
    "#폴더에 이미지 파일 저장하기\n",
    "for i in range(len(src_lst)):\n",
    "    urlretrieve(src_lst[i],f'./강아지/강아지{i+1}.jpg')"
   ]
  },
  {
   "cell_type": "code",
   "execution_count": 38,
   "id": "b626b7a9",
   "metadata": {
    "ExecuteTime": {
     "end_time": "2022-12-20T03:46:54.670189Z",
     "start_time": "2022-12-20T03:46:54.664177Z"
    }
   },
   "outputs": [
    {
     "name": "stdout",
     "output_type": "stream",
     "text": [
      "331\n"
     ]
    }
   ],
   "source": []
  },
  {
   "cell_type": "code",
   "execution_count": null,
   "id": "11d577f9",
   "metadata": {},
   "outputs": [],
   "source": []
  }
 ],
 "metadata": {
  "kernelspec": {
   "display_name": "Python 3 (ipykernel)",
   "language": "python",
   "name": "python3"
  },
  "language_info": {
   "codemirror_mode": {
    "name": "ipython",
    "version": 3
   },
   "file_extension": ".py",
   "mimetype": "text/x-python",
   "name": "python",
   "nbconvert_exporter": "python",
   "pygments_lexer": "ipython3",
   "version": "3.9.13"
  },
  "toc": {
   "base_numbering": 1,
   "nav_menu": {},
   "number_sections": true,
   "sideBar": true,
   "skip_h1_title": false,
   "title_cell": "Table of Contents",
   "title_sidebar": "Contents",
   "toc_cell": false,
   "toc_position": {},
   "toc_section_display": true,
   "toc_window_display": false
  }
 },
 "nbformat": 4,
 "nbformat_minor": 5
}
