{
 "cells": [
  {
   "cell_type": "markdown",
   "id": "237db130",
   "metadata": {},
   "source": [
    "### requests, BeautifulSoup 만 사용했을때의 한계\n",
    "- \"자바스크립트로 동적으로 생성된 정보는 가져올 수 없다는 것\""
   ]
  },
  {
   "cell_type": "markdown",
   "id": "1e5d1176",
   "metadata": {},
   "source": [
    "### Selenium\n",
    " : 동적인 페이지를 제어하고 내용을 가져오기 위한 라이브러리\n",
    " : 웹 자동화 테스트 도구\n",
    " : 브라우저 제어 - 키브도입력, ㅡㄹ릭, 스크롤, 이전 페이지 이동 등등\n",
    " \n",
    " #### 샐레니움의 필요성\n",
    " - 1. 자바스크립트가 동적으로 만든 데이터를 크롤링 하기\n",
    " - 2. 사이트의 다양한 html요소에 클릭, 키보드 입력 등 이벤트 주기, 데이터도 추출할 수 있음\n",
    " \n",
    " #### 사용하기 위한 환경 구축\n",
    " - 1. 셀레니움 라이브러리 설치\n",
    " - 2. webdriver 파일 설치 -> 현재 ㅡ롤링 폴더에 저장\n",
    " - 웹 드라이버를 설치할 때 , 크롬 버전과 동일해야함\n",
    " - 버전확인방법: 크롬 브라우저 설정 > 크롬정보 메뉴> 버전확인"
   ]
  },
  {
   "cell_type": "code",
   "execution_count": 1,
   "id": "be1d93c8",
   "metadata": {
    "ExecuteTime": {
     "end_time": "2022-12-19T00:16:06.762649Z",
     "start_time": "2022-12-19T00:16:01.438921Z"
    }
   },
   "outputs": [
    {
     "name": "stdout",
     "output_type": "stream",
     "text": [
      "Collecting selenium\n",
      "  Downloading selenium-4.7.2-py3-none-any.whl (6.3 MB)\n",
      "     ---------------------------------------- 6.3/6.3 MB 45.0 MB/s eta 0:00:00\n",
      "Collecting trio~=0.17\n",
      "  Downloading trio-0.22.0-py3-none-any.whl (384 kB)\n",
      "     ------------------------------------- 384.9/384.9 kB 23.4 MB/s eta 0:00:00\n",
      "Requirement already satisfied: urllib3[socks]~=1.26 in c:\\users\\smhrd\\anaconda3\\lib\\site-packages (from selenium) (1.26.11)\n",
      "Requirement already satisfied: certifi>=2021.10.8 in c:\\users\\smhrd\\anaconda3\\lib\\site-packages (from selenium) (2022.9.14)\n",
      "Collecting trio-websocket~=0.9\n",
      "  Downloading trio_websocket-0.9.2-py3-none-any.whl (16 kB)\n",
      "Collecting outcome\n",
      "  Downloading outcome-1.2.0-py2.py3-none-any.whl (9.7 kB)\n",
      "Collecting exceptiongroup>=1.0.0rc9\n",
      "  Downloading exceptiongroup-1.0.4-py3-none-any.whl (14 kB)\n",
      "Requirement already satisfied: idna in c:\\users\\smhrd\\anaconda3\\lib\\site-packages (from trio~=0.17->selenium) (3.3)\n",
      "Requirement already satisfied: attrs>=19.2.0 in c:\\users\\smhrd\\anaconda3\\lib\\site-packages (from trio~=0.17->selenium) (21.4.0)\n",
      "Requirement already satisfied: sniffio in c:\\users\\smhrd\\anaconda3\\lib\\site-packages (from trio~=0.17->selenium) (1.2.0)\n",
      "Collecting async-generator>=1.9\n",
      "  Downloading async_generator-1.10-py3-none-any.whl (18 kB)\n",
      "Requirement already satisfied: cffi>=1.14 in c:\\users\\smhrd\\anaconda3\\lib\\site-packages (from trio~=0.17->selenium) (1.15.1)\n",
      "Requirement already satisfied: sortedcontainers in c:\\users\\smhrd\\anaconda3\\lib\\site-packages (from trio~=0.17->selenium) (2.4.0)\n",
      "Collecting wsproto>=0.14\n",
      "  Downloading wsproto-1.2.0-py3-none-any.whl (24 kB)\n",
      "Requirement already satisfied: PySocks!=1.5.7,<2.0,>=1.5.6 in c:\\users\\smhrd\\anaconda3\\lib\\site-packages (from urllib3[socks]~=1.26->selenium) (1.7.1)\n",
      "Requirement already satisfied: pycparser in c:\\users\\smhrd\\anaconda3\\lib\\site-packages (from cffi>=1.14->trio~=0.17->selenium) (2.21)\n",
      "Collecting h11<1,>=0.9.0\n",
      "  Downloading h11-0.14.0-py3-none-any.whl (58 kB)\n",
      "     ---------------------------------------- 58.3/58.3 kB 3.0 MB/s eta 0:00:00\n",
      "Installing collected packages: outcome, h11, exceptiongroup, async-generator, wsproto, trio, trio-websocket, selenium\n",
      "Successfully installed async-generator-1.10 exceptiongroup-1.0.4 h11-0.14.0 outcome-1.2.0 selenium-4.7.2 trio-0.22.0 trio-websocket-0.9.2 wsproto-1.2.0\n"
     ]
    }
   ],
   "source": [
    "!pip install selenium"
   ]
  },
  {
   "cell_type": "markdown",
   "id": "1b5e3281",
   "metadata": {},
   "source": [
    "#### Selenium 사용하기"
   ]
  },
  {
   "cell_type": "code",
   "execution_count": 4,
   "id": "2582efbf",
   "metadata": {
    "ExecuteTime": {
     "end_time": "2022-12-19T00:28:11.801598Z",
     "start_time": "2022-12-19T00:28:11.783248Z"
    }
   },
   "outputs": [],
   "source": [
    "# 도구 임폴트\n",
    "# chromedriver.exe 를 제어 및 실행시켜주는 라이브러리\n",
    "from selenium import webdriver as wb\n",
    "\n",
    "#키보드의 값을 제어할 수 있는 라이브러리\n",
    "from selenium.webdriver.common.keys import Keys\n",
    "\n",
    "#html 요소를 접근하는 방식을 제공하는 라이브러리\n",
    "#css 선택자 , 태그이름접근, 클래스접근, 아이디접근,,\n",
    "from selenium.webdriver.common.by import By"
   ]
  },
  {
   "cell_type": "markdown",
   "id": "13217201",
   "metadata": {},
   "source": [
    "#### 페이지 요청"
   ]
  },
  {
   "cell_type": "code",
   "execution_count": 5,
   "id": "a947def1",
   "metadata": {
    "ExecuteTime": {
     "end_time": "2022-12-19T00:31:32.507767Z",
     "start_time": "2022-12-19T00:31:30.175765Z"
    }
   },
   "outputs": [],
   "source": [
    "# wb.Chrome Chromedriver.exe 경로 설정)\n",
    "# driver = wb.Chrome ('./Chromedriver.exe') 같은 경로에 있으면 생략가능\n",
    "url = 'https://www.naver.com/'\n",
    "# 크롬 브라우저 연결 설정\n",
    "# 제어할수 있는 브라우저 실행, 브라우저를 제어하고 접근하기 위해서 driver 변수에\n",
    "driver =wb.Chrome()\n",
    "\n",
    "#url 주소에 해당하는 웹 페이지를 요청하는 함수\n",
    "driver.get(url)"
   ]
  },
  {
   "cell_type": "markdown",
   "id": "ab438517",
   "metadata": {},
   "source": [
    "#### 특정 html요소 접근(1개)\n",
    "- find_element(어떤 선택자 종류, value= '벨류값')"
   ]
  },
  {
   "cell_type": "code",
   "execution_count": 6,
   "id": "338580ba",
   "metadata": {
    "ExecuteTime": {
     "end_time": "2022-12-19T00:39:00.470858Z",
     "start_time": "2022-12-19T00:39:00.439941Z"
    }
   },
   "outputs": [
    {
     "data": {
      "text/plain": [
       "<selenium.webdriver.remote.webelement.WebElement (session=\"ecf543a70de12ff47721e9f0a9746e11\", element=\"4ae5062a-fe5f-43a1-92bb-937f75217eac\")>"
      ]
     },
     "execution_count": 6,
     "metadata": {},
     "output_type": "execute_result"
    }
   ],
   "source": [
    "# driver.find_element(): 웹문서에서 특정 html요소 1개에 접근하는 함수\n",
    "#검색창(input)요소 접근하기\n",
    "driver.find_element(by = 'id',value = 'query')"
   ]
  },
  {
   "cell_type": "code",
   "execution_count": 13,
   "id": "2e10f936",
   "metadata": {
    "ExecuteTime": {
     "end_time": "2022-12-19T01:08:20.333876Z",
     "start_time": "2022-12-19T01:08:19.142817Z"
    }
   },
   "outputs": [],
   "source": [
    "# 검색방법 1\n",
    "# by, value 활용한 html요소 접근\n",
    "# 검색창에 키보드입력값 보내기\n",
    "# enter기능\n",
    "driver.find_element(by = 'id',value = 'query').send_keys('치즈돈까스\\n')"
   ]
  },
  {
   "cell_type": "code",
   "execution_count": 8,
   "id": "102bd977",
   "metadata": {
    "ExecuteTime": {
     "end_time": "2022-12-19T00:44:14.333710Z",
     "start_time": "2022-12-19T00:44:13.119985Z"
    }
   },
   "outputs": [],
   "source": [
    "# 검색방법 2\n",
    "# By.ID를 활용한 html요소 접근\n",
    "driver.find_element(By.ID,value = 'query').send_keys('치즈돈까스\\n')"
   ]
  },
  {
   "cell_type": "code",
   "execution_count": 12,
   "id": "9e5e67e4",
   "metadata": {
    "ExecuteTime": {
     "end_time": "2022-12-19T00:50:01.583233Z",
     "start_time": "2022-12-19T00:50:00.589621Z"
    }
   },
   "outputs": [],
   "source": [
    "# 검색방법 3\n",
    "# By.css_SELECTOR --> id 값에 접근\n",
    "driver.find_element(By.CSS_SELECTOR, value= \"#query\").send_keys(\"치즈돈까스\\n\")"
   ]
  },
  {
   "cell_type": "code",
   "execution_count": 20,
   "id": "00664de0",
   "metadata": {
    "ExecuteTime": {
     "end_time": "2022-12-19T01:15:22.971359Z",
     "start_time": "2022-12-19T01:15:17.415846Z"
    }
   },
   "outputs": [],
   "source": [
    "# 검색방법 4\n",
    "driver =wb.Chrome()\n",
    "driver.get(url)\n",
    "driver.find_element(By.CSS_SELECTOR, value= \"#query\").send_keys(\"치즈돈까스\")\n",
    "# 검색버튼 요소 접근하기\n",
    "driver.find_element(By.CSS_SELECTOR, value= \"#search_btn\").click()\n",
    "\n",
    "# driver.find_element(By.CSS_SELECTOR, value= \".title\")"
   ]
  },
  {
   "cell_type": "markdown",
   "id": "f14f22ba",
   "metadata": {},
   "source": [
    "##### 해당 태그의 여러 요소를 접근하는 함수(여러개)\n",
    "- find_elements()"
   ]
  },
  {
   "cell_type": "code",
   "execution_count": 26,
   "id": "1d305167",
   "metadata": {
    "ExecuteTime": {
     "end_time": "2022-12-19T01:23:00.678546Z",
     "start_time": "2022-12-19T01:23:00.644456Z"
    },
    "scrolled": false
   },
   "outputs": [
    {
     "data": {
      "text/plain": [
       "'옥주부 제주돼지 돈까스10팩 등심돈까스 치즈돈까스 특제소스'"
      ]
     },
     "execution_count": 26,
     "metadata": {},
     "output_type": "execute_result"
    }
   ],
   "source": [
    "# 치즈돈까스 상품명에 접근해보기\n",
    "products = driver.find_elements(By.CSS_SELECTOR, value = 'a.title')\n",
    "products[2].text# webelement.text : html객체 내의 텍스트 내용을 접근 -> str\n"
   ]
  },
  {
   "cell_type": "code",
   "execution_count": 28,
   "id": "29eac1fc",
   "metadata": {
    "ExecuteTime": {
     "end_time": "2022-12-19T01:25:55.127965Z",
     "start_time": "2022-12-19T01:25:54.980922Z"
    }
   },
   "outputs": [
    {
     "name": "stdout",
     "output_type": "stream",
     "text": [
      "당당한 치즈돈까스 960gx8팩 업소용\n",
      "진푸드 수제치즈돈까스1.8kgx4개 도매업소용\n",
      "옥주부 제주돼지 돈까스10팩 등심돈까스 치즈돈까스 특제소스\n",
      "삼형제고기 돈까스 수제 등심 치즈돈까스 옛날 경양식 냉동\n",
      "옥주부 치즈 돈까스 14팩[치즈 14개+감귤 7개+토마토 7개]\n",
      "유혜광 수제돈까스 통 등심 치즈 안심 치킨 생선까스 돈까스소스 매운맛소스 전문점 퀄리티\n",
      "옥주부 제주돼지 통까스 등심돈까스15개 치즈돈까스5개 소스\n",
      "풀무원 돈카츠 3봉 통등심 돈카츠 블럭치즈돈카츠\n",
      "\n",
      "\n",
      "\n",
      "\n",
      "\n",
      "\n",
      "\n",
      "\n"
     ]
    }
   ],
   "source": [
    "for i in products:\n",
    "    print(i.text)# i 요소 1개.text"
   ]
  },
  {
   "cell_type": "code",
   "execution_count": 76,
   "id": "f8580553",
   "metadata": {
    "ExecuteTime": {
     "end_time": "2022-12-19T01:34:24.655627Z",
     "start_time": "2022-12-19T01:34:24.609686Z"
    }
   },
   "outputs": [],
   "source": [
    "# 페이지 스크롤 내리기 ! --> keys활용\n",
    "# 스크롤 내리는 방법 : Arrow Down(조금씩 내리기), PAGE_DOWN(보여지는 페이지에서 다음페이지로 다운)\n",
    "#END(제이 하단까지 스크롤 내리기)\n",
    "#스크롤 적용 대상 : BODY\n",
    "# 스크롤 적용하는 방법: SEND_KEYS(Keys.스크롤내리는방법)\n",
    "driver.find_element(By.TAG_NAME, value = 'body').send_keys(Keys.ARROW_UP)"
   ]
  },
  {
   "cell_type": "code",
   "execution_count": 77,
   "id": "fcf0ed6f",
   "metadata": {
    "ExecuteTime": {
     "end_time": "2022-12-19T01:35:17.212117Z",
     "start_time": "2022-12-19T01:35:00.915087Z"
    }
   },
   "outputs": [],
   "source": [
    "#크롬 브라우저 창 끄기\n",
    "driver.close()"
   ]
  },
  {
   "cell_type": "code",
   "execution_count": null,
   "id": "e9bcdd5b",
   "metadata": {},
   "outputs": [],
   "source": []
  }
 ],
 "metadata": {
  "kernelspec": {
   "display_name": "Python 3 (ipykernel)",
   "language": "python",
   "name": "python3"
  },
  "language_info": {
   "codemirror_mode": {
    "name": "ipython",
    "version": 3
   },
   "file_extension": ".py",
   "mimetype": "text/x-python",
   "name": "python",
   "nbconvert_exporter": "python",
   "pygments_lexer": "ipython3",
   "version": "3.9.13"
  },
  "toc": {
   "base_numbering": 1,
   "nav_menu": {},
   "number_sections": true,
   "sideBar": true,
   "skip_h1_title": false,
   "title_cell": "Table of Contents",
   "title_sidebar": "Contents",
   "toc_cell": false,
   "toc_position": {},
   "toc_section_display": true,
   "toc_window_display": false
  }
 },
 "nbformat": 4,
 "nbformat_minor": 5
}
